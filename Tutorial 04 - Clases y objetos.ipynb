{
 "cells": [
  {
   "cell_type": "code",
   "execution_count": 1,
   "id": "163cfd72",
   "metadata": {},
   "outputs": [],
   "source": [
    "class MiNumeroComplejo:\n",
    "    #Constructor\n",
    "    def __init__(self,real = 0, imag = 0): #Los '0' son valores por defecto en caso de no asignar esos atributos\n",
    "        print(\"El constructor de 'MiNumeroComplejo' se está ejecutando...\")\n",
    "        self.real_part = real\n",
    "        self.imag_part = imag\n",
    "    \n",
    "    def mostrarComplejo(self):\n",
    "        print(\"{0} + j{1}\".format(self.real_part,self.imag_part))\n",
    "    "
   ]
  },
  {
   "cell_type": "code",
   "execution_count": 6,
   "id": "9b66bc58",
   "metadata": {},
   "outputs": [
    {
     "name": "stdout",
     "output_type": "stream",
     "text": [
      "El constructor de 'MiNumeroComplejo' se está ejecutando...\n",
      "40 + j50\n"
     ]
    }
   ],
   "source": [
    "# Crear un objeto\n",
    "complejo1 = MiNumeroComplejo(40,50)\n",
    "\n",
    "# Llamar a la funcion 'mostrarComplejo'\n",
    "complejo1.mostrarComplejo()"
   ]
  },
  {
   "cell_type": "code",
   "execution_count": 4,
   "id": "61a491bf",
   "metadata": {},
   "outputs": [
    {
     "name": "stdout",
     "output_type": "stream",
     "text": [
      "El constructor de 'MiNumeroComplejo' se está ejecutando...\n",
      "60 70 80\n"
     ]
    },
    {
     "ename": "AttributeError",
     "evalue": "'MiNumeroComplejo' object has no attribute 'nuevo_atributo'",
     "output_type": "error",
     "traceback": [
      "\u001b[1;31m---------------------------------------------------------------------------\u001b[0m",
      "\u001b[1;31mAttributeError\u001b[0m                            Traceback (most recent call last)",
      "\u001b[1;32m<ipython-input-4-d3f041047b5d>\u001b[0m in \u001b[0;36m<module>\u001b[1;34m\u001b[0m\n\u001b[0;32m      6\u001b[0m \u001b[1;33m\u001b[0m\u001b[0m\n\u001b[0;32m      7\u001b[0m \u001b[1;31m# Verificamos que complejo1 no tiene el nuevo atributo\u001b[0m\u001b[1;33m\u001b[0m\u001b[1;33m\u001b[0m\u001b[1;33m\u001b[0m\u001b[0m\n\u001b[1;32m----> 8\u001b[1;33m \u001b[0mcomplejo1\u001b[0m\u001b[1;33m.\u001b[0m\u001b[0mnuevo_atributo\u001b[0m\u001b[1;33m\u001b[0m\u001b[1;33m\u001b[0m\u001b[0m\n\u001b[0m",
      "\u001b[1;31mAttributeError\u001b[0m: 'MiNumeroComplejo' object has no attribute 'nuevo_atributo'"
     ]
    }
   ],
   "source": [
    "# Crear otro objeto de la clase MiNumeroComplejo y crearle un nuevo atributo 'nuevo_atributo'\n",
    "complejo2 = MiNumeroComplejo(60,70)\n",
    "complejo2.nuevo_atributo = 80   #Este nuevo atributo es exclusivo del objeto complejo2\n",
    "\n",
    "print(complejo2.real_part, complejo2.imag_part, complejo2.nuevo_atributo)\n",
    "\n",
    "# Verificamos que complejo1 no tiene el nuevo atributo\n",
    "complejo1.nuevo_atributo   #AttributeError: 'MiNumeroComplejo' object has no attribute 'nuevo_atributo'"
   ]
  },
  {
   "cell_type": "code",
   "execution_count": 7,
   "id": "461bb4bc",
   "metadata": {},
   "outputs": [
    {
     "name": "stdout",
     "output_type": "stream",
     "text": [
      "<__main__.MiNumeroComplejo object at 0x00000159E4D3F0A0>\n"
     ]
    },
    {
     "ename": "NameError",
     "evalue": "name 'complejo1' is not defined",
     "output_type": "error",
     "traceback": [
      "\u001b[1;31m---------------------------------------------------------------------------\u001b[0m",
      "\u001b[1;31mNameError\u001b[0m                                 Traceback (most recent call last)",
      "\u001b[1;32m<ipython-input-7-b1c44c1f26d1>\u001b[0m in \u001b[0;36m<module>\u001b[1;34m\u001b[0m\n\u001b[0;32m      4\u001b[0m \u001b[1;32mdel\u001b[0m \u001b[0mcomplejo1\u001b[0m\u001b[1;33m.\u001b[0m\u001b[0mreal_part\u001b[0m\u001b[1;33m\u001b[0m\u001b[1;33m\u001b[0m\u001b[0m\n\u001b[0;32m      5\u001b[0m \u001b[1;32mdel\u001b[0m \u001b[0mcomplejo1\u001b[0m\u001b[1;33m\u001b[0m\u001b[1;33m\u001b[0m\u001b[0m\n\u001b[1;32m----> 6\u001b[1;33m \u001b[0mprint\u001b[0m\u001b[1;33m(\u001b[0m\u001b[0mcomplejo1\u001b[0m\u001b[1;33m)\u001b[0m\u001b[1;33m\u001b[0m\u001b[1;33m\u001b[0m\u001b[0m\n\u001b[0m",
      "\u001b[1;31mNameError\u001b[0m: name 'complejo1' is not defined"
     ]
    }
   ],
   "source": [
    "# Borrar atributos del objeto y el objeto\n",
    "\n",
    "print(complejo1)\n",
    "del complejo1.real_part\n",
    "del complejo1\n",
    "print(complejo1)    #NameError: name 'complejo1' is not defined"
   ]
  }
 ],
 "metadata": {
  "kernelspec": {
   "display_name": "Python 3",
   "language": "python",
   "name": "python3"
  },
  "language_info": {
   "codemirror_mode": {
    "name": "ipython",
    "version": 3
   },
   "file_extension": ".py",
   "mimetype": "text/x-python",
   "name": "python",
   "nbconvert_exporter": "python",
   "pygments_lexer": "ipython3",
   "version": "3.8.8"
  }
 },
 "nbformat": 4,
 "nbformat_minor": 5
}
