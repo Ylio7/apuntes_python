{
 "cells": [
  {
   "cell_type": "code",
   "execution_count": 1,
   "id": "71d8bc12",
   "metadata": {},
   "outputs": [
    {
     "name": "stdout",
     "output_type": "stream",
     "text": [
      "Hola\n",
      "Hola\n",
      "Hola\n",
      "Hola,\n",
      "como estan todos\n",
      "en Argentina?\n"
     ]
    }
   ],
   "source": [
    "#Diferentes maneras de definir un string\n",
    "mystr1 = 'Hola'\n",
    "print(mystr1)\n",
    "\n",
    "mystr2 = \"Hola\"\n",
    "print(mystr2)\n",
    "\n",
    "mystr3 = '''Hola'''\n",
    "print(mystr3)\n",
    "\n",
    "#Comillas triples permiten extender varias lineas\n",
    "mystr4 = \"\"\"Hola,\n",
    "como estan todos\n",
    "en Argentina?\"\"\"\n",
    "print(mystr4)\n",
    "\n",
    "\n"
   ]
  },
  {
   "cell_type": "code",
   "execution_count": 3,
   "id": "255e9742",
   "metadata": {},
   "outputs": [
    {
     "name": "stdout",
     "output_type": "stream",
     "text": [
      "mystr =  lenguaje\n",
      "mystr[0] =  l\n",
      "mystr[-1] =  e\n",
      "mystr[1:5] =  engu\n",
      "mystr[5:-2] =  a\n"
     ]
    },
    {
     "ename": "IndexError",
     "evalue": "string index out of range",
     "output_type": "error",
     "traceback": [
      "\u001b[1;31m---------------------------------------------------------------------------\u001b[0m",
      "\u001b[1;31mIndexError\u001b[0m                                Traceback (most recent call last)",
      "\u001b[1;32m<ipython-input-3-7dc153c6e72c>\u001b[0m in \u001b[0;36m<module>\u001b[1;34m\u001b[0m\n\u001b[0;32m      7\u001b[0m \u001b[0mprint\u001b[0m\u001b[1;33m(\u001b[0m\u001b[1;34m'mystr[1:5] = '\u001b[0m\u001b[1;33m,\u001b[0m \u001b[0mmystr\u001b[0m\u001b[1;33m[\u001b[0m\u001b[1;36m1\u001b[0m\u001b[1;33m:\u001b[0m\u001b[1;36m5\u001b[0m\u001b[1;33m]\u001b[0m\u001b[1;33m)\u001b[0m\u001b[1;33m\u001b[0m\u001b[1;33m\u001b[0m\u001b[0m\n\u001b[0;32m      8\u001b[0m \u001b[0mprint\u001b[0m\u001b[1;33m(\u001b[0m\u001b[1;34m'mystr[5:-2] = '\u001b[0m\u001b[1;33m,\u001b[0m \u001b[0mmystr\u001b[0m\u001b[1;33m[\u001b[0m\u001b[1;36m5\u001b[0m\u001b[1;33m:\u001b[0m\u001b[1;33m-\u001b[0m\u001b[1;36m2\u001b[0m\u001b[1;33m]\u001b[0m\u001b[1;33m)\u001b[0m\u001b[1;33m\u001b[0m\u001b[1;33m\u001b[0m\u001b[0m\n\u001b[1;32m----> 9\u001b[1;33m \u001b[0mprint\u001b[0m\u001b[1;33m(\u001b[0m\u001b[1;34m'mystr[10] = '\u001b[0m\u001b[1;33m,\u001b[0m \u001b[0mmystr\u001b[0m\u001b[1;33m[\u001b[0m\u001b[1;36m10\u001b[0m\u001b[1;33m]\u001b[0m\u001b[1;33m)\u001b[0m   \u001b[1;31m#error\u001b[0m\u001b[1;33m\u001b[0m\u001b[1;33m\u001b[0m\u001b[0m\n\u001b[0m",
      "\u001b[1;31mIndexError\u001b[0m: string index out of range"
     ]
    }
   ],
   "source": [
    "#Acceder a los caracteres de un string\n",
    "mystr = 'lenguaje'\n",
    "print('mystr = ', mystr)\n",
    "\n",
    "print('mystr[0] = ', mystr[0])\n",
    "print('mystr[-1] = ', mystr[-1])\n",
    "print('mystr[1:5] = ', mystr[1:5])\n",
    "print('mystr[5:-2] = ', mystr[5:-2])\n",
    "print('mystr[10] = ', mystr[10])   #error"
   ]
  },
  {
   "cell_type": "code",
   "execution_count": 4,
   "id": "ba072c38",
   "metadata": {},
   "outputs": [
    {
     "name": "stdout",
     "output_type": "stream",
     "text": [
      "lenguaje\n",
      "de programacion\n"
     ]
    },
    {
     "ename": "TypeError",
     "evalue": "'str' object does not support item assignment",
     "output_type": "error",
     "traceback": [
      "\u001b[1;31m---------------------------------------------------------------------------\u001b[0m",
      "\u001b[1;31mTypeError\u001b[0m                                 Traceback (most recent call last)",
      "\u001b[1;32m<ipython-input-4-80500cd26727>\u001b[0m in \u001b[0;36m<module>\u001b[1;34m\u001b[0m\n\u001b[0;32m      6\u001b[0m \u001b[0mprint\u001b[0m\u001b[1;33m(\u001b[0m\u001b[0mmystr\u001b[0m\u001b[1;33m)\u001b[0m\u001b[1;33m\u001b[0m\u001b[1;33m\u001b[0m\u001b[0m\n\u001b[0;32m      7\u001b[0m \u001b[1;33m\u001b[0m\u001b[0m\n\u001b[1;32m----> 8\u001b[1;33m \u001b[0mmystr\u001b[0m\u001b[1;33m[\u001b[0m\u001b[1;36m5\u001b[0m\u001b[1;33m]\u001b[0m \u001b[1;33m=\u001b[0m \u001b[1;34m'f'\u001b[0m   \u001b[1;31m#error xq es inmutable\u001b[0m\u001b[1;33m\u001b[0m\u001b[1;33m\u001b[0m\u001b[0m\n\u001b[0m",
      "\u001b[1;31mTypeError\u001b[0m: 'str' object does not support item assignment"
     ]
    }
   ],
   "source": [
    "#Los strings son inmutables, pero se pueden asignar diferentes strings\n",
    "mystr = 'lenguaje'\n",
    "print(mystr)\n",
    "\n",
    "mystr = 'de programacion'\n",
    "print(mystr)\n",
    "\n",
    "mystr[5] = 'f'   #error xq es inmutable"
   ]
  },
  {
   "cell_type": "code",
   "execution_count": 7,
   "id": "754ba4a2",
   "metadata": {},
   "outputs": [
    {
     "name": "stdout",
     "output_type": "stream",
     "text": [
      "Bienvenidos a bordo\n",
      "BienvenidosBienvenidosBienvenidos\n"
     ]
    }
   ],
   "source": [
    "#Concatenar strings\n",
    "mystr1 = 'Bienvenidos'\n",
    "mystr2 = ' a bordo'\n",
    "\n",
    "print(mystr1 + mystr2)\n",
    "print(mystr1*3)"
   ]
  },
  {
   "cell_type": "code",
   "execution_count": 13,
   "id": "03c425e3",
   "metadata": {},
   "outputs": [
    {
     "name": "stdout",
     "output_type": "stream",
     "text": [
      "3 veces aparecio la letra \"l\"\n"
     ]
    }
   ],
   "source": [
    "#Iterar sobre un string\n",
    "letter_count = 0\n",
    "for letters in 'Hello world':\n",
    "    if(letters == 'l'):\n",
    "        letter_count += 1\n",
    "\n",
    "print(letter_count, 'veces aparecio la letra \"l\"')"
   ]
  },
  {
   "cell_type": "code",
   "execution_count": 15,
   "id": "50dbe5bf",
   "metadata": {},
   "outputs": [
    {
     "name": "stdout",
     "output_type": "stream",
     "text": [
      "True\n",
      "False\n",
      "False\n",
      "True\n"
     ]
    }
   ],
   "source": [
    "#membresias\n",
    "print('l' in 'Hello')\n",
    "print('l' not in 'Hello')\n",
    "print('b' in 'Hello')\n",
    "print('b' not in 'Hello')"
   ]
  },
  {
   "cell_type": "code",
   "execution_count": 17,
   "id": "1b95f705",
   "metadata": {},
   "outputs": [
    {
     "name": "stdout",
     "output_type": "stream",
     "text": [
      "list(enumerate(mystr)) =  [(0, 'u'), (1, 'n'), (2, 'i'), (3, 'v'), (4, 'e'), (5, 'r'), (6, 's'), (7, 'i'), (8, 'd'), (9, 'a'), (10, 'd')]\n",
      "len(mystr) =  11\n"
     ]
    }
   ],
   "source": [
    "#funciones\n",
    "mystr = 'universidad'\n",
    "\n",
    "#funcion enumarate\n",
    "my_list_enumerate = list(enumerate(mystr))\n",
    "print('list(enumerate(mystr)) = ', my_list_enumerate)\n",
    "\n",
    "#largo\n",
    "print('len(mystr) = ', len(mystr))"
   ]
  },
  {
   "cell_type": "code",
   "execution_count": 18,
   "id": "9a553bf3",
   "metadata": {},
   "outputs": [
    {
     "name": "stdout",
     "output_type": "stream",
     "text": [
      "Tell me \"What's your name?\"\n",
      "Tell me \"What's your name?\"\n",
      "Tell me 'What's your name?'\n",
      "Tell me \"What's your name?\"\n"
     ]
    }
   ],
   "source": [
    "#Formato de strings usando secuencia de escape\n",
    "\n",
    "#Triple apostrofes\n",
    "print('''Tell me \"What's your name?\"''')\n",
    "\n",
    "#Simple apostrofes\n",
    "print('Tell me \"What\\'s your name?\"')\n",
    "\n",
    "print(\"Tell me 'What\\'s your name?'\")\n",
    "\n",
    "#comillas\n",
    "print(\"Tell me \\\"What's your name?\\\"\")"
   ]
  },
  {
   "cell_type": "code",
   "execution_count": 19,
   "id": "cba01d44",
   "metadata": {},
   "outputs": [
    {
     "name": "stdout",
     "output_type": "stream",
     "text": [
      "C:\\User\\user\\mydata.txt\n",
      "esta linea tiene una nueva \n",
      "linea de caracteres\n",
      "esta linea tiene un espacio \t de caracteres\n",
      "ABC escrito en ABC (HEX) representation \n"
     ]
    }
   ],
   "source": [
    "print(\"C:\\\\User\\\\user\\\\mydata.txt\")\n",
    "print(\"esta linea tiene una nueva \\nlinea de caracteres\")\n",
    "print(\"esta linea tiene un espacio \\t de caracteres\")\n",
    "print(\"ABC escrito en \\x41\\x42\\x43 (HEX) representation \")"
   ]
  },
  {
   "cell_type": "code",
   "execution_count": 24,
   "id": "d7aa0834",
   "metadata": {},
   "outputs": [
    {
     "name": "stdout",
     "output_type": "stream",
     "text": [
      "Today is and Sunday\n",
      "Today is and Sunday\n",
      "Today is and Sunday\n"
     ]
    }
   ],
   "source": [
    "#metodo format()\n",
    "\n",
    "#orden por default (implicito)\n",
    "default_order = \"{} {} and {}\".format('Today','is','Sunday')\n",
    "print(default_order)\n",
    "\n",
    "#orden usando argumentos de posicion\n",
    "positional_order = \"{1} {0} and {2}\".format('is','Today','Sunday')\n",
    "print(positional_order)\n",
    "\n",
    "#orden usando keywords\n",
    "keyword_order = \"{t} {i} and {s}\".format(i='is', t='Today', s='Sunday')\n",
    "print(keyword_order)"
   ]
  },
  {
   "cell_type": "code",
   "execution_count": 26,
   "id": "906ba06d",
   "metadata": {},
   "outputs": [
    {
     "name": "stdout",
     "output_type": "stream",
     "text": [
      "La representacion binaria requerida de 20 es 10100\n",
      "La representacion exponencial: 1.566345e+03\n",
      "Un tercio is: 0.333\n"
     ]
    }
   ],
   "source": [
    "#Formato de numeros\n",
    "print(\"La representacion binaria requerida de {0} es {0:b}\".format(20))\n",
    "\n",
    "#Formato de flotantes\n",
    "print(\"La representacion exponencial: {0:e}\".format(1566.345))\n",
    "\n",
    "#redondeo\n",
    "print(\"Un tercio is: {0:.3f}\".format(1/3))"
   ]
  },
  {
   "cell_type": "code",
   "execution_count": 28,
   "id": "dbe70283",
   "metadata": {},
   "outputs": [
    {
     "name": "stdout",
     "output_type": "stream",
     "text": [
      "good morning to all\n",
      "GOOD MORNING TO ALL\n",
      "13\n",
      "-1\n",
      "gOOD moRNing tO everybody\n",
      "gOOD moRNing tO alL\n"
     ]
    }
   ],
   "source": [
    "#Metodos\n",
    "print(\"gOOD moRNing tO alL\".lower())\n",
    "print(\"gOOD moRNing tO alL\".upper())\n",
    "print(\"gOOD moRNing tO alL\".find('tO'))\n",
    "print(\"gOOD moRNing tO alL\".find('to'))  #no encuentra xq es case sensitive\n",
    "print(\"gOOD moRNing tO alL\".replace('alL','everybody'))\n",
    "print(\"gOOD moRNing tO alL\".replace('all','everybody'))   #no encuentra xq es case sensitive"
   ]
  },
  {
   "cell_type": "code",
   "execution_count": null,
   "id": "7a5258d5",
   "metadata": {},
   "outputs": [],
   "source": []
  }
 ],
 "metadata": {
  "kernelspec": {
   "display_name": "Python 3",
   "language": "python",
   "name": "python3"
  },
  "language_info": {
   "codemirror_mode": {
    "name": "ipython",
    "version": 3
   },
   "file_extension": ".py",
   "mimetype": "text/x-python",
   "name": "python",
   "nbconvert_exporter": "python",
   "pygments_lexer": "ipython3",
   "version": "3.8.8"
  }
 },
 "nbformat": 4,
 "nbformat_minor": 5
}
