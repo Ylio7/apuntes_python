{
 "cells": [
  {
   "cell_type": "code",
   "execution_count": 2,
   "id": "fe680ad3",
   "metadata": {},
   "outputs": [
    {
     "name": "stdout",
     "output_type": "stream",
     "text": [
      "The value of pi is:  3.141592653589793\n"
     ]
    }
   ],
   "source": [
    "#Importar modulos y renombrarlos\n",
    "import math as m\n",
    "\n",
    "print(\"The value of pi is: \",m.pi)"
   ]
  },
  {
   "cell_type": "code",
   "execution_count": 3,
   "id": "3aa9b614",
   "metadata": {},
   "outputs": [
    {
     "name": "stdout",
     "output_type": "stream",
     "text": [
      "Te value of pi is:  3.141592653589793\n"
     ]
    }
   ],
   "source": [
    "#Si solo queremos importar un componente del modulo usamos 'from'\n",
    "from math import pi\n",
    "print(\"Te value of pi is: \",pi)"
   ]
  },
  {
   "cell_type": "code",
   "execution_count": 4,
   "id": "a7fae6af",
   "metadata": {},
   "outputs": [
    {
     "name": "stdout",
     "output_type": "stream",
     "text": [
      "Te value of pi is:  3.141592653589793\n"
     ]
    }
   ],
   "source": [
    "#importar todolos los elementos (nombres) del modulo estandar (en este caso math)\n",
    "from math import*\n",
    "print(\"Te value of pi is: \",pi)"
   ]
  },
  {
   "cell_type": "code",
   "execution_count": null,
   "id": "faadcc11",
   "metadata": {},
   "outputs": [],
   "source": []
  }
 ],
 "metadata": {
  "kernelspec": {
   "display_name": "Python 3",
   "language": "python",
   "name": "python3"
  },
  "language_info": {
   "codemirror_mode": {
    "name": "ipython",
    "version": 3
   },
   "file_extension": ".py",
   "mimetype": "text/x-python",
   "name": "python",
   "nbconvert_exporter": "python",
   "pygments_lexer": "ipython3",
   "version": "3.8.8"
  }
 },
 "nbformat": 4,
 "nbformat_minor": 5
}
