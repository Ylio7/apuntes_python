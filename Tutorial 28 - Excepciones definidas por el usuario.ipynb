{
 "cells": [
  {
   "cell_type": "code",
   "execution_count": 11,
   "id": "d0c6f87c",
   "metadata": {},
   "outputs": [
    {
     "name": "stdout",
     "output_type": "stream",
     "text": [
      "La edad debe ser un numero entero\n",
      "Fin del programa\n"
     ]
    }
   ],
   "source": [
    "class VotantesElegibles(Exception):   #Exception es una clase padre!\n",
    "    def __int__(self):\n",
    "        super()\n",
    "\n",
    "try:\n",
    "    edad = 12\n",
    "    if edad < 18:\n",
    "        raise VotantesElegibles\n",
    "except VotantesElegibles:\n",
    "    print(\"La edad es menor a 18 años\")\n",
    "except TypeError:\n",
    "    print(\"La edad debe ser un numero entero\")\n",
    "else:\n",
    "    print(\"La edad es mayor o igual a 18 años\")\n",
    "finally:\n",
    "    print(\"Fin del programa\")"
   ]
  },
  {
   "cell_type": "code",
   "execution_count": null,
   "id": "ac22b3a1",
   "metadata": {},
   "outputs": [],
   "source": []
  }
 ],
 "metadata": {
  "kernelspec": {
   "display_name": "Python 3",
   "language": "python",
   "name": "python3"
  },
  "language_info": {
   "codemirror_mode": {
    "name": "ipython",
    "version": 3
   },
   "file_extension": ".py",
   "mimetype": "text/x-python",
   "name": "python",
   "nbconvert_exporter": "python",
   "pygments_lexer": "ipython3",
   "version": "3.8.8"
  }
 },
 "nbformat": 4,
 "nbformat_minor": 5
}
