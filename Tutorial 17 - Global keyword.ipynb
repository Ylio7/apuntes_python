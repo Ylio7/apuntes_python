{
 "cells": [
  {
   "cell_type": "code",
   "execution_count": 1,
   "id": "4072579d",
   "metadata": {},
   "outputs": [
    {
     "name": "stdout",
     "output_type": "stream",
     "text": [
      "Ante de llamar a la func2:  20\n",
      "Llamando a la func2...\n",
      "Luego de llamar a la func2:  20\n",
      "x en principal:  25\n"
     ]
    }
   ],
   "source": [
    "def func1():\n",
    "    x = 20\n",
    "    \n",
    "    def func2():\n",
    "        global x   #la keyword Global es usada para modificar una variable global\n",
    "        x = 25     #este cambio se verá reflejado fuera de la func1, ya que es global\n",
    "    \n",
    "    print(\"Ante de llamar a la func2: \",x)\n",
    "    print(\"Llamando a la func2...\")\n",
    "    func2()\n",
    "    print(\"Luego de llamar a la func2: \",x)\n",
    "\n",
    "func1()\n",
    "print(\"x en principal: \", x)"
   ]
  },
  {
   "cell_type": "code",
   "execution_count": null,
   "id": "3ef65cf1",
   "metadata": {},
   "outputs": [],
   "source": []
  }
 ],
 "metadata": {
  "kernelspec": {
   "display_name": "Python 3",
   "language": "python",
   "name": "python3"
  },
  "language_info": {
   "codemirror_mode": {
    "name": "ipython",
    "version": 3
   },
   "file_extension": ".py",
   "mimetype": "text/x-python",
   "name": "python",
   "nbconvert_exporter": "python",
   "pygments_lexer": "ipython3",
   "version": "3.8.8"
  }
 },
 "nbformat": 4,
 "nbformat_minor": 5
}
