{
 "cells": [
  {
   "cell_type": "code",
   "execution_count": 9,
   "id": "d49779fd",
   "metadata": {},
   "outputs": [
    {
     "name": "stdout",
     "output_type": "stream",
     "text": [
      "id(2) =  140719005050704\n",
      "id(a) =  140719005050704\n",
      "id(a) =  140719005050704\n",
      "id(a) =  140719005050736\n",
      "id(3) =  140719005050736\n",
      "id(b) =  140719005050704\n"
     ]
    }
   ],
   "source": [
    "#Name (o identificador) es simplemente un nombre que se le da a los objetos\n",
    "#Podemos acceder a la direccion (en la memoria RAM) de algun objeto a traves de la funcion id().\n",
    "#Nota: se pueden tener diferentes valores de id\n",
    "\n",
    "a = 2\n",
    "#Salida: id(2) = 140719005050704\n",
    "print('id(2) = ',id(2))\n",
    "\n",
    "#Salida: id(a) = 140719005050704\n",
    "print('id(a) = ',id(a))\n",
    "\n",
    "#vuelvo a asigar la variable a el mismo valor. No cambia\n",
    "a = 2\n",
    "#Salida: id(a) = 140719005050704\n",
    "print('id(a) = ',id(a))\n",
    "\n",
    "#Probemos esto\n",
    "a = a+1   #ahora a = 3\n",
    "#Salida: id(a) = 140719005050704\n",
    "print('id(a) = ',id(a))\n",
    "\n",
    "#Salida: id(3), será igual  ?\n",
    "print('id(3) = ',id(3))\n",
    "#si!\n",
    "\n",
    "b = 2\n",
    "#Salida: id(b) = id(2) 140719005050704 ?\n",
    "print('id(b) = ',id(b))\n",
    "#Si!"
   ]
  },
  {
   "cell_type": "code",
   "execution_count": 11,
   "id": "887d3805",
   "metadata": {},
   "outputs": [
    {
     "name": "stdout",
     "output_type": "stream",
     "text": [
      "a =  10\n",
      "a =  30\n",
      "a = 30\n",
      "a =  30\n"
     ]
    }
   ],
   "source": [
    "#Alcance\n",
    "def funcion_externa():\n",
    "    global a\n",
    "    a = 20\n",
    "    \n",
    "    def funcion_interna():\n",
    "        global a\n",
    "        a = 30\n",
    "        print('a = ',a)\n",
    "        \n",
    "    funcion_interna()\n",
    "    print('a =',a)\n",
    "\n",
    "a = 10\n",
    "print('a = ',a)\n",
    "funcion_externa()\n",
    "print('a = ',a)"
   ]
  },
  {
   "cell_type": "code",
   "execution_count": null,
   "id": "16cce028",
   "metadata": {},
   "outputs": [],
   "source": []
  }
 ],
 "metadata": {
  "kernelspec": {
   "display_name": "Python 3",
   "language": "python",
   "name": "python3"
  },
  "language_info": {
   "codemirror_mode": {
    "name": "ipython",
    "version": 3
   },
   "file_extension": ".py",
   "mimetype": "text/x-python",
   "name": "python",
   "nbconvert_exporter": "python",
   "pygments_lexer": "ipython3",
   "version": "3.8.8"
  }
 },
 "nbformat": 4,
 "nbformat_minor": 5
}
