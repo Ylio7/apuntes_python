{
 "cells": [
  {
   "cell_type": "code",
   "execution_count": 6,
   "id": "19411320",
   "metadata": {},
   "outputs": [
    {
     "name": "stdout",
     "output_type": "stream",
     "text": [
      "{1: 'Hello', 2: 'Hi', 3: 'Hola'}\n",
      "Hello\n",
      "Hi\n",
      "{1: 'Hey', 2: 'Hi', 3: 'Hola'}\n",
      "{1: 'Hey', 2: 'Hi', 3: 'Hola', 4: 'Namaste'}\n"
     ]
    }
   ],
   "source": [
    "#Los diccionarios de python son una coleccion desordenadas de items.\n",
    "#Estan optimizados cuando sabemos las claves que necesitamos\n",
    "#Se encierran entre {} como los sets, pero estos tienen un key de identificacion\n",
    "\n",
    "new_dic = {1:\"Hello\", 2:\"Hi\", 3:\"Hola\"}  #numero: key --> key:value\n",
    "print(new_dic)\n",
    "print(new_dic[1])      #si ponemos un key mayor al maximo tira error de key\n",
    "print(new_dic.get(2))  #si ponemos un key mayor al maximo tira 'None'\n",
    "\n",
    "#Actualizar un valor\n",
    "new_dic[1] = \"Hey\"\n",
    "print(new_dic)\n",
    "\n",
    "#Agregar un valor\n",
    "new_dic[4]= \"Namaste\"\n",
    "print(new_dic)"
   ]
  },
  {
   "cell_type": "code",
   "execution_count": 15,
   "id": "2ef4cbf5",
   "metadata": {},
   "outputs": [
    {
     "name": "stdout",
     "output_type": "stream",
     "text": [
      "{1: 1, 2: 4, 3: 9, 4: 16, 5: 25}\n",
      "16\n",
      "{1: 1, 2: 4, 3: 9, 5: 25}\n",
      "(5, 25)\n",
      "{1: 1, 2: 4, 3: 9}\n",
      "{2: 4, 3: 9}\n"
     ]
    }
   ],
   "source": [
    "#Crear un nuevo diccionario\n",
    "squares = {1:1, 2:4, 3:9, 4:16, 5:25}\n",
    "print(squares)\n",
    "\n",
    "#remover un item especifico\n",
    "print(squares.pop(4))\n",
    "print(squares)\n",
    "\n",
    "#remover un item arbitrario\n",
    "print(squares.popitem())\n",
    "print(squares)\n",
    "\n",
    "#Borrar un item en particular\n",
    "del squares[1]\n",
    "print(squares)"
   ]
  },
  {
   "cell_type": "code",
   "execution_count": 16,
   "id": "04417355",
   "metadata": {},
   "outputs": [
    {
     "name": "stdout",
     "output_type": "stream",
     "text": [
      "{1: 1, 2: 4, 3: 9, 4: 16, 5: 25}\n",
      "{}\n"
     ]
    },
    {
     "ename": "NameError",
     "evalue": "name 'squares' is not defined",
     "output_type": "error",
     "traceback": [
      "\u001b[1;31m---------------------------------------------------------------------------\u001b[0m",
      "\u001b[1;31mNameError\u001b[0m                                 Traceback (most recent call last)",
      "\u001b[1;32m<ipython-input-16-faca67af127e>\u001b[0m in \u001b[0;36m<module>\u001b[1;34m\u001b[0m\n\u001b[0;32m     11\u001b[0m \u001b[1;32mdel\u001b[0m \u001b[0msquares\u001b[0m\u001b[1;33m\u001b[0m\u001b[1;33m\u001b[0m\u001b[0m\n\u001b[0;32m     12\u001b[0m \u001b[1;33m\u001b[0m\u001b[0m\n\u001b[1;32m---> 13\u001b[1;33m \u001b[0mprint\u001b[0m\u001b[1;33m(\u001b[0m\u001b[0msquares\u001b[0m\u001b[1;33m)\u001b[0m   \u001b[1;31m#error xq el dicc se borró\u001b[0m\u001b[1;33m\u001b[0m\u001b[1;33m\u001b[0m\u001b[0m\n\u001b[0m",
      "\u001b[1;31mNameError\u001b[0m: name 'squares' is not defined"
     ]
    }
   ],
   "source": [
    "squares = {1:1, 2:4, 3:9, 4:16, 5:25}\n",
    "print(squares)\n",
    "\n",
    "#remover todos los items\n",
    "squares.clear()\n",
    "\n",
    "#Salida {}\n",
    "print(squares)\n",
    "\n",
    "#Borrar el diccionario\n",
    "del squares\n",
    "\n",
    "print(squares)   #error xq el dicc se borró"
   ]
  },
  {
   "cell_type": "code",
   "execution_count": 21,
   "id": "71d02fe0",
   "metadata": {},
   "outputs": [
    {
     "name": "stdout",
     "output_type": "stream",
     "text": [
      "{0: 0, 1: 1, 2: 4, 3: 9, 4: 16, 5: 25}\n",
      "True\n",
      "True\n",
      "False\n"
     ]
    }
   ],
   "source": [
    "#Crear un diccionario usando Comprehension\n",
    "squares = {x: x*x for x in range(6)}\n",
    "print(squares)\n",
    "\n",
    "#Test de membresia de diccionario\n",
    "squares = {1:1, 3:9, 5:25, 7:49, 9:81}\n",
    "\n",
    "print(1 in squares)\n",
    "print(2 not in squares)\n",
    "\n",
    "#estos tests de membresia solo son para las keys\n",
    "print(49 in squares)"
   ]
  },
  {
   "cell_type": "code",
   "execution_count": 23,
   "id": "2bdcdc63",
   "metadata": {},
   "outputs": [
    {
     "name": "stdout",
     "output_type": "stream",
     "text": [
      "1\n",
      "9\n",
      "25\n",
      "49\n",
      "81\n",
      "5\n",
      "[1, 3, 5, 7, 9]\n"
     ]
    }
   ],
   "source": [
    "#iterar en un diccionario\n",
    "squares = {1:1, 3:9, 5:25, 7:49, 9:81}\n",
    "for i in squares:\n",
    "    print(squares[i])\n",
    "    \n",
    "#Algunas funciones \n",
    "print(len(squares))\n",
    "print(sorted(squares))"
   ]
  },
  {
   "cell_type": "code",
   "execution_count": null,
   "id": "abe42a35",
   "metadata": {},
   "outputs": [],
   "source": []
  },
  {
   "cell_type": "code",
   "execution_count": null,
   "id": "b5bed3b7",
   "metadata": {},
   "outputs": [],
   "source": []
  }
 ],
 "metadata": {
  "kernelspec": {
   "display_name": "Python 3",
   "language": "python",
   "name": "python3"
  },
  "language_info": {
   "codemirror_mode": {
    "name": "ipython",
    "version": 3
   },
   "file_extension": ".py",
   "mimetype": "text/x-python",
   "name": "python",
   "nbconvert_exporter": "python",
   "pygments_lexer": "ipython3",
   "version": "3.8.8"
  }
 },
 "nbformat": 4,
 "nbformat_minor": 5
}
