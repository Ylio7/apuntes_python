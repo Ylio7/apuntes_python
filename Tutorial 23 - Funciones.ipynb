{
 "cells": [
  {
   "cell_type": "code",
   "execution_count": 5,
   "id": "a7460510",
   "metadata": {},
   "outputs": [
    {
     "name": "stdout",
     "output_type": "stream",
     "text": [
      "Hola! Me encanta programar =)\n",
      "Hola! Me encanta programar =)\n",
      "\n",
      "    Este es\n",
      "    un texto\n",
      "    multilinea\n"
     ]
    }
   ],
   "source": [
    "def hola1():\n",
    "    print(\"Hola! Me encanta programar =)\")   #no devuelve nada\n",
    "\n",
    "def hola2():\n",
    "    \"\"\"\n",
    "    Este es\n",
    "    un texto\n",
    "    multilinea\"\"\"\n",
    "        \n",
    "    return \"Hola! Me encanta programar =)\"   #devuelve el string\n",
    "\n",
    "hola1()\n",
    "print(hola2())\n",
    "print(hola2.__doc__)"
   ]
  },
  {
   "cell_type": "code",
   "execution_count": 10,
   "id": "596bba1a",
   "metadata": {},
   "outputs": [
    {
     "name": "stdout",
     "output_type": "stream",
     "text": [
      "Menú principal:\n",
      "1 > Sumar\n",
      "2 > Restar\n",
      "3 > Multiplicar\n",
      "4 > Dividir\n",
      "Elejir una opcion...4\n",
      "Ha elegido dividir\n",
      "Ingrese primer numero...32\n",
      "Ingrese segundo numero...0\n",
      "imposible dividir por 0\n"
     ]
    }
   ],
   "source": [
    "def miSuma(x,y):\n",
    "    print(\"Realizando la suma...\")\n",
    "    return(x+y)\n",
    "def miResta(x,y):\n",
    "    print(\"Realizando la resta...\")\n",
    "    return(x-y)\n",
    "def miMultiplicacion(x,y):\n",
    "    print(\"Realizando la multiplicación...\")\n",
    "    return(x*y)\n",
    "def miDivision(x,y):\n",
    "    print(\"Realizando la División...\")\n",
    "    return(x/y)\n",
    "\n",
    "def miMenu():\n",
    "    print(\"Menú principal:\")\n",
    "    print(\"1 > Sumar\")\n",
    "    print(\"2 > Restar\")\n",
    "    print(\"3 > Multiplicar\")\n",
    "    print(\"4 > Dividir\")\n",
    "    ch = int(input(\"Elejir una opcion...\"))\n",
    "    if ch == 1:\n",
    "        print(\"Ha elegido sumar\")\n",
    "    elif ch == 2:\n",
    "        print(\"Ha elegido restar\")\n",
    "    elif ch == 3:\n",
    "        print(\"Ha elegido multiplicar\")\n",
    "    elif ch == 4:\n",
    "        print(\"Ha elegido dividir\")\n",
    "    return ch\n",
    "\n",
    "def calculo():\n",
    "    ch = miMenu()   #no importa que tenga el mismo nombre que en miMenu (ch), ya que cada una es una variable local en su def\n",
    "    num1 = int(input(\"Ingrese primer numero...\"))\n",
    "    num2 = int(input(\"Ingrese segundo numero...\"))\n",
    "    if ch == 1:\n",
    "        print(\"El resultado es: \",miSuma(num1,num2))\n",
    "    elif ch == 2:\n",
    "        print(\"El resultado es: \",miResta(num1,num2))\n",
    "    elif ch == 3:\n",
    "        print(\"El resultado es: \",miMultiplicacion(num1,num2))\n",
    "    elif ch == 4:\n",
    "        if num2 != 0:\n",
    "            print(\"El resultado es: \",miDivision(num1,num2))\n",
    "        else:\n",
    "            print(\"Error: Imposible dividir por 0\")\n",
    "\n",
    "calculo()"
   ]
  },
  {
   "cell_type": "code",
   "execution_count": null,
   "id": "59f16d9e",
   "metadata": {},
   "outputs": [],
   "source": []
  },
  {
   "cell_type": "code",
   "execution_count": null,
   "id": "51624185",
   "metadata": {},
   "outputs": [],
   "source": []
  },
  {
   "cell_type": "code",
   "execution_count": null,
   "id": "a11f4b9e",
   "metadata": {},
   "outputs": [],
   "source": []
  }
 ],
 "metadata": {
  "kernelspec": {
   "display_name": "Python 3",
   "language": "python",
   "name": "python3"
  },
  "language_info": {
   "codemirror_mode": {
    "name": "ipython",
    "version": 3
   },
   "file_extension": ".py",
   "mimetype": "text/x-python",
   "name": "python",
   "nbconvert_exporter": "python",
   "pygments_lexer": "ipython3",
   "version": "3.8.8"
  }
 },
 "nbformat": 4,
 "nbformat_minor": 5
}
