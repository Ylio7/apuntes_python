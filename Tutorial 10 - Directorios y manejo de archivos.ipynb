{
 "cells": [
  {
   "cell_type": "code",
   "execution_count": 1,
   "id": "6aae5939",
   "metadata": {},
   "outputs": [
    {
     "name": "stdout",
     "output_type": "stream",
     "text": [
      "C:\\Users\\Agus\\Curso Python Udemy\n",
      "b'C:\\\\Users\\\\Agus\\\\Curso Python Udemy'\n"
     ]
    }
   ],
   "source": [
    "#Para realizar estas operaciones se utiliza el modulo 'os'\n",
    "import os\n",
    "print(os.getcwd())     #Devuelve el presente directorio\n",
    "print(os.getcwdb())    #Devuelve el presente directorio como objeto de byte"
   ]
  },
  {
   "cell_type": "code",
   "execution_count": 4,
   "id": "8fa3ff22",
   "metadata": {},
   "outputs": [
    {
     "name": "stdout",
     "output_type": "stream",
     "text": [
      "['Miembros.txt']\n",
      "C:\\Users\\Agus\\Curso Python Udemy\\Prueba manejo de archivos\n"
     ]
    }
   ],
   "source": [
    "os.chdir('C:\\\\Users\\\\Agus\\\\Curso Python Udemy\\\\Prueba manejo de archivos')  #change directory\n",
    "print(os.listdir())  #Para ver una lista de todos los archivos en ese directorio\n",
    "print(os.getcwd())     #Devuelve el presente directorio"
   ]
  },
  {
   "cell_type": "code",
   "execution_count": 12,
   "id": "df0ec6c3",
   "metadata": {},
   "outputs": [
    {
     "ename": "FileExistsError",
     "evalue": "[WinError 183] No se puede crear un archivo que ya existe: 'Test'",
     "output_type": "error",
     "traceback": [
      "\u001b[1;31m---------------------------------------------------------------------------\u001b[0m",
      "\u001b[1;31mFileExistsError\u001b[0m                           Traceback (most recent call last)",
      "\u001b[1;32m<ipython-input-12-5e50457b8195>\u001b[0m in \u001b[0;36m<module>\u001b[1;34m\u001b[0m\n\u001b[0;32m      1\u001b[0m \u001b[1;31m#Cear un nuevo directorio\u001b[0m\u001b[1;33m\u001b[0m\u001b[1;33m\u001b[0m\u001b[1;33m\u001b[0m\u001b[0m\n\u001b[1;32m----> 2\u001b[1;33m \u001b[0mos\u001b[0m\u001b[1;33m.\u001b[0m\u001b[0mmkdir\u001b[0m\u001b[1;33m(\u001b[0m\u001b[1;34m'Test'\u001b[0m\u001b[1;33m)\u001b[0m\u001b[1;33m\u001b[0m\u001b[1;33m\u001b[0m\u001b[0m\n\u001b[0m\u001b[0;32m      3\u001b[0m \u001b[0mos\u001b[0m\u001b[1;33m.\u001b[0m\u001b[0mmkdir\u001b[0m\u001b[1;33m(\u001b[0m\u001b[1;34m'Renombrar'\u001b[0m\u001b[1;33m)\u001b[0m\u001b[1;33m\u001b[0m\u001b[1;33m\u001b[0m\u001b[0m\n\u001b[0;32m      4\u001b[0m \u001b[0mos\u001b[0m\u001b[1;33m.\u001b[0m\u001b[0mmkdir\u001b[0m\u001b[1;33m(\u001b[0m\u001b[1;34m'Borrar'\u001b[0m\u001b[1;33m)\u001b[0m\u001b[1;33m\u001b[0m\u001b[1;33m\u001b[0m\u001b[0m\n",
      "\u001b[1;31mFileExistsError\u001b[0m: [WinError 183] No se puede crear un archivo que ya existe: 'Test'"
     ]
    }
   ],
   "source": [
    "#Cear un nuevo directorio\n",
    "os.mkdir('Test')\n",
    "os.mkdir('Renombrar')\n",
    "os.mkdir('Borrar')"
   ]
  },
  {
   "cell_type": "code",
   "execution_count": 9,
   "id": "d14463f2",
   "metadata": {},
   "outputs": [],
   "source": [
    "#Renombrar un directorio\n",
    "os.rename('Renombrar','Otro nombre')"
   ]
  },
  {
   "cell_type": "code",
   "execution_count": 16,
   "id": "0a4d86ee",
   "metadata": {},
   "outputs": [],
   "source": [
    "#Borrar un directorio o archivo\n",
    "os.rmdir('Borrar')\n",
    "os.remove('Miembros para borrar.txt')"
   ]
  },
  {
   "cell_type": "code",
   "execution_count": 17,
   "id": "19e773f9",
   "metadata": {},
   "outputs": [],
   "source": [
    "os.chdir('C:\\\\Users\\\\Agus\\\\Curso Python Udemy')"
   ]
  },
  {
   "cell_type": "code",
   "execution_count": null,
   "id": "7bf29741",
   "metadata": {},
   "outputs": [],
   "source": []
  }
 ],
 "metadata": {
  "kernelspec": {
   "display_name": "Python 3",
   "language": "python",
   "name": "python3"
  },
  "language_info": {
   "codemirror_mode": {
    "name": "ipython",
    "version": 3
   },
   "file_extension": ".py",
   "mimetype": "text/x-python",
   "name": "python",
   "nbconvert_exporter": "python",
   "pygments_lexer": "ipython3",
   "version": "3.8.8"
  }
 },
 "nbformat": 4,
 "nbformat_minor": 5
}
