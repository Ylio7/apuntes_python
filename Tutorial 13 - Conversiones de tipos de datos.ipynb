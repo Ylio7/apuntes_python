{
 "cells": [
  {
   "cell_type": "code",
   "execution_count": 1,
   "id": "6ebbe9aa",
   "metadata": {},
   "outputs": [
    {
     "name": "stdout",
     "output_type": "stream",
     "text": [
      "datatype of num_int:  <class 'int'>\n",
      "datatype of num_flo:  <class 'float'>\n",
      "Value of num_new:  124.23\n",
      "datatype of num_new:  <class 'float'>\n"
     ]
    }
   ],
   "source": [
    "#COnversion implicita\n",
    "num_int = 123\n",
    "num_flo = 1.23\n",
    "\n",
    "num_new = num_int + num_flo\n",
    "\n",
    "print('datatype of num_int: ', type(num_int))\n",
    "print('datatype of num_flo: ', type(num_flo))\n",
    "\n",
    "print(\"Value of num_new: \",num_new)\n",
    "print('datatype of num_new: ', type(num_new))"
   ]
  },
  {
   "cell_type": "code",
   "execution_count": 4,
   "id": "6621bdbb",
   "metadata": {},
   "outputs": [
    {
     "name": "stdout",
     "output_type": "stream",
     "text": [
      "datatype of num_int:  <class 'int'>\n",
      "datatype of num_flo:  <class 'str'>\n"
     ]
    },
    {
     "ename": "TypeError",
     "evalue": "unsupported operand type(s) for +: 'int' and 'str'",
     "output_type": "error",
     "traceback": [
      "\u001b[1;31m---------------------------------------------------------------------------\u001b[0m",
      "\u001b[1;31mTypeError\u001b[0m                                 Traceback (most recent call last)",
      "\u001b[1;32m<ipython-input-4-09a82dc52ab8>\u001b[0m in \u001b[0;36m<module>\u001b[1;34m\u001b[0m\n\u001b[0;32m      6\u001b[0m \u001b[0mprint\u001b[0m\u001b[1;33m(\u001b[0m\u001b[1;34m'datatype of num_flo: '\u001b[0m\u001b[1;33m,\u001b[0m \u001b[0mtype\u001b[0m\u001b[1;33m(\u001b[0m\u001b[0mnum_str\u001b[0m\u001b[1;33m)\u001b[0m\u001b[1;33m)\u001b[0m\u001b[1;33m\u001b[0m\u001b[1;33m\u001b[0m\u001b[0m\n\u001b[0;32m      7\u001b[0m \u001b[1;33m\u001b[0m\u001b[0m\n\u001b[1;32m----> 8\u001b[1;33m \u001b[0mprint\u001b[0m\u001b[1;33m(\u001b[0m\u001b[0mnum_int\u001b[0m \u001b[1;33m+\u001b[0m \u001b[0mnum_str\u001b[0m\u001b[1;33m)\u001b[0m  \u001b[1;31m#Error. La conversion implicita no funciona en estos caso\u001b[0m\u001b[1;33m\u001b[0m\u001b[1;33m\u001b[0m\u001b[0m\n\u001b[0m",
      "\u001b[1;31mTypeError\u001b[0m: unsupported operand type(s) for +: 'int' and 'str'"
     ]
    }
   ],
   "source": [
    "#Suma de un string y un entero\n",
    "num_int = 123\n",
    "num_str = \"456\"\n",
    "\n",
    "print('datatype of num_int: ', type(num_int))\n",
    "print('datatype of num_str: ', type(num_str))\n",
    "\n",
    "print(num_int + num_str)  #Error. La conversion implicita no funciona en estos caso"
   ]
  },
  {
   "cell_type": "code",
   "execution_count": 6,
   "id": "45abcdcc",
   "metadata": {},
   "outputs": [
    {
     "name": "stdout",
     "output_type": "stream",
     "text": [
      "datatype of num_int:  <class 'int'>\n",
      "datatype of num_str before Type Casting:  <class 'str'>\n",
      "datatype of num_str after Type Casting:  <class 'int'>\n",
      "datatype of num_new:  <class 'int'>\n",
      "579\n"
     ]
    }
   ],
   "source": [
    "#Conversion explicita\n",
    "num_int = 123\n",
    "num_str = '456'\n",
    "\n",
    "print('datatype of num_int: ', type(num_int))\n",
    "print('datatype of num_str before Type Casting: ', type(num_str))\n",
    "\n",
    "num_str = int(num_str)   #Convierte un string a entero\n",
    "print('datatype of num_str after Type Casting: ', type(num_str))\n",
    "\n",
    "num_new = num_int + num_str\n",
    "print('datatype of num_new: ', type(num_new))\n",
    "print(num_new)"
   ]
  },
  {
   "cell_type": "code",
   "execution_count": null,
   "id": "dc9ca6cc",
   "metadata": {},
   "outputs": [],
   "source": []
  }
 ],
 "metadata": {
  "kernelspec": {
   "display_name": "Python 3",
   "language": "python",
   "name": "python3"
  },
  "language_info": {
   "codemirror_mode": {
    "name": "ipython",
    "version": 3
   },
   "file_extension": ".py",
   "mimetype": "text/x-python",
   "name": "python",
   "nbconvert_exporter": "python",
   "pygments_lexer": "ipython3",
   "version": "3.8.8"
  }
 },
 "nbformat": 4,
 "nbformat_minor": 5
}
