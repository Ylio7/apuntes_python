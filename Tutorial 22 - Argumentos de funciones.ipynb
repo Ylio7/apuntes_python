{
 "cells": [
  {
   "cell_type": "code",
   "execution_count": 2,
   "id": "89844de0",
   "metadata": {},
   "outputs": [
    {
     "name": "stdout",
     "output_type": "stream",
     "text": [
      "El maximo entre 10 y 20 es 20\n"
     ]
    }
   ],
   "source": [
    "def findMax(a , b):\n",
    "    if a > b:\n",
    "        return a\n",
    "    else:\n",
    "        return b\n",
    "\n",
    "print(\"El maximo entre 10 y 20 es\",findMax(10,20))"
   ]
  },
  {
   "cell_type": "code",
   "execution_count": 5,
   "id": "086a88b1",
   "metadata": {},
   "outputs": [
    {
     "name": "stdout",
     "output_type": "stream",
     "text": [
      "Hola  Agustin , que tengas un buen dia.\n",
      "Hola  Agustin , cómo estás?\n"
     ]
    }
   ],
   "source": [
    "def Hola(name, msj = \", cómo estás?\"):\n",
    "    print(\"Hola \",name,msj)\n",
    "\n",
    "Hola(\"Agustin\",\", que tengas un buen dia.\")  \n",
    "Hola(\"Agustin\")  #como no hay segundo argumento, se imprime el que esta definido en la funcion por defecto\n"
   ]
  },
  {
   "cell_type": "code",
   "execution_count": 7,
   "id": "2e304172",
   "metadata": {},
   "outputs": [
    {
     "name": "stdout",
     "output_type": "stream",
     "text": [
      "La suma de todos los enteros entre 1 y 5 es: 15\n"
     ]
    }
   ],
   "source": [
    "def sumaTodo(*args):\n",
    "    sum = 0\n",
    "    for i in args:\n",
    "        sum += i\n",
    "    return sum\n",
    "\n",
    "print(\"La suma de todos los enteros entre 1 y 5 es:\",sumaTodo(1,2,3,4,5))"
   ]
  },
  {
   "cell_type": "code",
   "execution_count": 8,
   "id": "53b9072d",
   "metadata": {},
   "outputs": [
    {
     "name": "stdout",
     "output_type": "stream",
     "text": [
      "a = 10, b = 20, c = 30...\n"
     ]
    }
   ],
   "source": [
    "def defaultArg(a,b,c):\n",
    "    print(\"a = {}, b = {}, c = {}...\".format(a,b,c))\n",
    "\n",
    "defaultArg(10,20,30)\n",
    "defaultArg(10,20)   #error, falta un argumento para 'c'. Ah menos que pongamos uno por defecto (def defaultArg(a,b,c = 300) por ejemplo)\n"
   ]
  },
  {
   "cell_type": "code",
   "execution_count": null,
   "id": "c285fe63",
   "metadata": {},
   "outputs": [],
   "source": []
  }
 ],
 "metadata": {
  "kernelspec": {
   "display_name": "Python 3",
   "language": "python",
   "name": "python3"
  },
  "language_info": {
   "codemirror_mode": {
    "name": "ipython",
    "version": 3
   },
   "file_extension": ".py",
   "mimetype": "text/x-python",
   "name": "python",
   "nbconvert_exporter": "python",
   "pygments_lexer": "ipython3",
   "version": "3.8.8"
  }
 },
 "nbformat": 4,
 "nbformat_minor": 5
}
