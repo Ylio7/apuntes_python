{
 "cells": [
  {
   "cell_type": "code",
   "execution_count": 1,
   "id": "91ffbdc4",
   "metadata": {},
   "outputs": [
    {
     "name": "stdout",
     "output_type": "stream",
     "text": [
      "['h', 'u', 'm', 'a', 'n', 'o']\n"
     ]
    }
   ],
   "source": [
    "#Iterar sobre un for para agregar letras a una lista\n",
    "h_letras = []\n",
    "\n",
    "for letras in 'humano':\n",
    "    h_letras.append(letras)\n",
    "\n",
    "print(h_letras)"
   ]
  },
  {
   "cell_type": "code",
   "execution_count": 10,
   "id": "ec4fdea8",
   "metadata": {},
   "outputs": [
    {
     "name": "stdout",
     "output_type": "stream",
     "text": [
      "['h', 'u', 'm', 'a', 'n', 'o']\n"
     ]
    }
   ],
   "source": [
    "#Usando comprension\n",
    "h_letras = [letras for letras in 'humano']\n",
    "print(h_letras)"
   ]
  },
  {
   "cell_type": "code",
   "execution_count": 11,
   "id": "6c38bac3",
   "metadata": {},
   "outputs": [
    {
     "name": "stdout",
     "output_type": "stream",
     "text": [
      "['h', 'u', 'm', 'a', 'n', 'o']\n"
     ]
    }
   ],
   "source": [
    "#Comprension de lista vs funcion Lambda\n",
    "h_letras = list(map(lambda x: x, 'humano'))\n",
    "print(h_letras)"
   ]
  },
  {
   "cell_type": "code",
   "execution_count": 12,
   "id": "21d5857c",
   "metadata": {},
   "outputs": [
    {
     "name": "stdout",
     "output_type": "stream",
     "text": [
      "[0, 2, 4, 6, 8, 10, 12, 14, 16, 18]\n"
     ]
    }
   ],
   "source": [
    "#if con comprension\n",
    "lista_numeros = [x for x in range(20) if x%2 == 0]  #Devuelve num pares\n",
    "print(lista_numeros)"
   ]
  },
  {
   "cell_type": "code",
   "execution_count": 13,
   "id": "d98385c3",
   "metadata": {},
   "outputs": [
    {
     "name": "stdout",
     "output_type": "stream",
     "text": [
      "[0, 10, 20, 30, 40, 50, 60, 70, 80, 90]\n"
     ]
    }
   ],
   "source": [
    "#If anidado con comprension\n",
    "lista_numeros = [y for y in range(100) if y%2 == 0 if y%5 ==0]  #Devuelve pares multiplos de 5\n",
    "print(lista_numeros)"
   ]
  },
  {
   "cell_type": "code",
   "execution_count": 15,
   "id": "27142045",
   "metadata": {},
   "outputs": [
    {
     "name": "stdout",
     "output_type": "stream",
     "text": [
      "['Par', 'Impar', 'Par', 'Impar', 'Par', 'Impar', 'Par', 'Impar', 'Par', 'Impar']\n"
     ]
    }
   ],
   "source": [
    "#If... else con comprension\n",
    "obj = [\"Par\" if i%2==0 else \"Impar\" for i in range(10)]\n",
    "print(obj)"
   ]
  },
  {
   "cell_type": "code",
   "execution_count": 16,
   "id": "90c8a928",
   "metadata": {},
   "outputs": [
    {
     "name": "stdout",
     "output_type": "stream",
     "text": [
      "[[1, 3, 5, 7], [2, 4, 6, 8]]\n"
     ]
    }
   ],
   "source": [
    "#Transponer una matriz usando comprension\n",
    "matriz = [[1,2],[3,4],[5,6],[7,8]]\n",
    "transp = [[fila[i] for fila in matriz]for i in range(2)]\n",
    "print(transp)"
   ]
  },
  {
   "cell_type": "code",
   "execution_count": null,
   "id": "4f1de723",
   "metadata": {},
   "outputs": [],
   "source": []
  }
 ],
 "metadata": {
  "kernelspec": {
   "display_name": "Python 3",
   "language": "python",
   "name": "python3"
  },
  "language_info": {
   "codemirror_mode": {
    "name": "ipython",
    "version": 3
   },
   "file_extension": ".py",
   "mimetype": "text/x-python",
   "name": "python",
   "nbconvert_exporter": "python",
   "pygments_lexer": "ipython3",
   "version": "3.8.8"
  }
 },
 "nbformat": 4,
 "nbformat_minor": 5
}
