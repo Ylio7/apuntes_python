{
 "cells": [
  {
   "cell_type": "code",
   "execution_count": 3,
   "id": "11c7e60a",
   "metadata": {},
   "outputs": [
    {
     "name": "stdout",
     "output_type": "stream",
     "text": [
      "[10, 20, 30, 40, 50]\n",
      "10\n",
      "20\n",
      "30\n",
      "40\n",
      "50\n",
      "50\n",
      "40\n"
     ]
    }
   ],
   "source": [
    "# Definiendo y declarando un array\n",
    "\n",
    "arr = [10, 20, 30, 40 ,50]\n",
    "print(arr)\n",
    "\n",
    "#Acceder a los elementos del array\n",
    "\n",
    "print(arr[0])\n",
    "print(arr[1])\n",
    "print(arr[2])\n",
    "print(arr[3])\n",
    "print(arr[4])\n",
    "\n",
    "\n",
    "print(arr[-1])\n",
    "print(arr[-2])"
   ]
  },
  {
   "cell_type": "code",
   "execution_count": 5,
   "id": "56d37403",
   "metadata": {},
   "outputs": [
    {
     "name": "stdout",
     "output_type": "stream",
     "text": [
      "['Coke', 'Apple', 'Google', 'Microsoft', 'Toyota']\n",
      "5\n",
      "['Coke', 'Apple', 'Google', 'Microsoft', 'Toyota', 'Intel']\n"
     ]
    }
   ],
   "source": [
    "brands = [\"Coke\", \"Apple\", \"Google\", \"Microsoft\", \"Toyota\"]\n",
    "print(brands)\n",
    "\n",
    "# Encontrar el largo del array\n",
    "num_brands = len(brands)\n",
    "print(num_brands)\n",
    "\n",
    "# Agregar elementos al array\n",
    "brands.append(\"Intel\")\n",
    "print(brands)"
   ]
  },
  {
   "cell_type": "code",
   "execution_count": 3,
   "id": "881e26c9",
   "metadata": {},
   "outputs": [
    {
     "name": "stdout",
     "output_type": "stream",
     "text": [
      "['violet', 'indigo', 'green', 'red']\n"
     ]
    }
   ],
   "source": [
    "# Eliminar elementos del array\n",
    "\n",
    "colors = [\"violet\", \"indigo\", \"blue\", \"green\", \"yellow\", \"orange\", \"red\"]\n",
    "del colors[4]\n",
    "colors.remove(\"blue\")\n",
    "colors.pop(3)\n",
    "print (colors)"
   ]
  },
  {
   "cell_type": "code",
   "execution_count": 2,
   "id": "a17cf870",
   "metadata": {
    "scrolled": true
   },
   "outputs": [
    {
     "name": "stdout",
     "output_type": "stream",
     "text": [
      "['manzana', 'Pepino', 'mango', 'mandarina', 'Palta']\n"
     ]
    }
   ],
   "source": [
    "# Modificar elementos de un array\n",
    "\n",
    "frutas = [\"manzana\", \"banana\", \"mango\", \"mandarina\", \"naranja\"]\n",
    "frutas[1] = \"Pepino\"\n",
    "frutas [-1] = \"Palta\"\n",
    "\n",
    "print(frutas)"
   ]
  },
  {
   "cell_type": "code",
   "execution_count": 5,
   "id": "3da4bada",
   "metadata": {},
   "outputs": [
    {
     "name": "stdout",
     "output_type": "stream",
     "text": [
      "[1, 2, 3]\n",
      "[1, 2, 3, 4, 5, 6]\n"
     ]
    }
   ],
   "source": [
    "# Concatenar dos arrays usando el operador +\n",
    "concatenar = [1,2,3]\n",
    "concatenar + [4,5,6]\n",
    "print(concatenar)\n",
    "\n",
    "concatenar += [4,5,6]\n",
    "print(concatenar)"
   ]
  },
  {
   "cell_type": "code",
   "execution_count": 8,
   "id": "9416d139",
   "metadata": {},
   "outputs": [
    {
     "name": "stdout",
     "output_type": "stream",
     "text": [
      "['a', 'a', 'a', 'a', 'a']\n"
     ]
    }
   ],
   "source": [
    "# Repetir elementos en array\n",
    "\n",
    "repetir = [\"a\"]\n",
    "repetir *= 5\n",
    "\n",
    "print(repetir)"
   ]
  },
  {
   "cell_type": "code",
   "execution_count": 9,
   "id": "a15d27d6",
   "metadata": {},
   "outputs": [
    {
     "name": "stdout",
     "output_type": "stream",
     "text": [
      "['manzana', 'banana', 'mango', 'mandarina', 'naranja']\n",
      "['banana', 'mango', 'mandarina']\n",
      "['manzana', 'banana', 'mango']\n",
      "['banana', 'mango', 'mandarina', 'naranja']\n",
      "['mango', 'mandarina']\n"
     ]
    }
   ],
   "source": [
    "# Separar un array\n",
    "\n",
    "frutas = [\"manzana\", \"banana\", \"mango\", \"mandarina\", \"naranja\"]\n",
    "print(frutas)\n",
    "print(frutas[1:4]) # el 4 no entra\n",
    "print(frutas[ :3]) # el 3 no entra\n",
    "print(frutas[-4:])\n",
    "print(frutas[-3:-1])"
   ]
  },
  {
   "cell_type": "code",
   "execution_count": 1,
   "id": "7b15b7dc",
   "metadata": {},
   "outputs": [
    {
     "name": "stdout",
     "output_type": "stream",
     "text": [
      "[[1, 2], [3, 4], [5, 6], [7, 8]]\n",
      "[1, 2]\n",
      "[7, 8]\n",
      "6\n",
      "7\n"
     ]
    }
   ],
   "source": [
    "# Declarar y definir un array multidimensional\n",
    "\n",
    "multd = [[1,2], [3,4], [5,6], [7,8]]\n",
    "print(multd)\n",
    "print(multd[0])\n",
    "print(multd[3])\n",
    "print(multd[2][1])\n",
    "print(multd[3][0])"
   ]
  },
  {
   "cell_type": "code",
   "execution_count": null,
   "id": "32f5799f",
   "metadata": {},
   "outputs": [],
   "source": []
  }
 ],
 "metadata": {
  "kernelspec": {
   "display_name": "Python 3",
   "language": "python",
   "name": "python3"
  },
  "language_info": {
   "codemirror_mode": {
    "name": "ipython",
    "version": 3
   },
   "file_extension": ".py",
   "mimetype": "text/x-python",
   "name": "python",
   "nbconvert_exporter": "python",
   "pygments_lexer": "ipython3",
   "version": "3.8.8"
  }
 },
 "nbformat": 4,
 "nbformat_minor": 5
}
