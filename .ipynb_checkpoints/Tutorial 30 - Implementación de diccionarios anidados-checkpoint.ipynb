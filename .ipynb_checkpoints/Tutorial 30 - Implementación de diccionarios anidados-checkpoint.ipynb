{
 "cells": [
  {
   "cell_type": "code",
   "execution_count": 2,
   "id": "510764a8",
   "metadata": {},
   "outputs": [
    {
     "name": "stdout",
     "output_type": "stream",
     "text": [
      "{1: {'nombre': 'Juan', 'edad': '32', 'sexo': 'hombre'}, 2: {'nombre': 'Maria', 'edad': '29', 'sexo': 'mujer'}}\n",
      "Juan\n",
      "32\n",
      "hombre\n"
     ]
    }
   ],
   "source": [
    "#Declarar y definir un diccionario anidado\n",
    "personas = {1:{'nombre': 'Juan', 'edad': '32', 'sexo': 'hombre'},   #recordar: el 1, 2, etc son los ID de cada elemento del\n",
    "            2:{'nombre': 'Maria', 'edad': '29', 'sexo': 'mujer'}}   #diccionario\n",
    "\n",
    "print(personas)\n",
    "\n",
    "#Acceder a elementos del diccionario\n",
    "print(personas[1]['nombre'])\n",
    "print(personas[1]['edad'])\n",
    "print(personas[1]['sexo'])"
   ]
  },
  {
   "cell_type": "code",
   "execution_count": 3,
   "id": "8bcd045b",
   "metadata": {},
   "outputs": [
    {
     "name": "stdout",
     "output_type": "stream",
     "text": [
      "{1: {'nombre': 'Juan', 'edad': '32', 'sexo': 'hombre'}, 2: {'nombre': 'Maria', 'edad': '29', 'sexo': 'mujer'}, 3: {'nombre': 'Andrea', 'edad': '35', 'sexo': 'mujer', 'casada': 'No'}}\n"
     ]
    }
   ],
   "source": [
    "personas[3] = {}\n",
    "\n",
    "#Agregar elementos al diccionario\n",
    "\n",
    "personas[3]['nombre'] = 'Andrea'\n",
    "personas[3]['edad'] = '35'\n",
    "personas[3]['sexo'] = 'mujer'\n",
    "personas[3]['casada'] = 'No'\n",
    "\n",
    "print(personas)"
   ]
  },
  {
   "cell_type": "code",
   "execution_count": 5,
   "id": "ea830313",
   "metadata": {},
   "outputs": [
    {
     "name": "stdout",
     "output_type": "stream",
     "text": [
      "{'nombre': 'Pedro', 'edad': '27', 'sexo': 'hombre', 'casado': 'Si'}\n",
      "{1: {'nombre': 'Juan', 'edad': '32', 'sexo': 'hombre'}, 2: {'nombre': 'Maria', 'edad': '29', 'sexo': 'mujer'}, 3: {'nombre': 'Andrea', 'edad': '35', 'sexo': 'mujer', 'casada': 'No'}, 4: {'nombre': 'Pedro', 'edad': '27', 'sexo': 'hombre', 'casado': 'Si'}}\n"
     ]
    }
   ],
   "source": [
    "#Agregar un diccionario al diccionario anidado\n",
    "#El resultado es identico si usamos el metodo anterior, pero esta es la forma correcta cuando queremos agregar datos\n",
    "#del tipo diccionario dentro de otro diccionario\n",
    "\n",
    "personas[4] = {'nombre': 'Pedro', 'edad': '27', 'sexo': 'hombre', 'casado': 'Si'}\n",
    "print(personas[4])\n",
    "print(personas)"
   ]
  },
  {
   "cell_type": "code",
   "execution_count": 6,
   "id": "bb6ba138",
   "metadata": {},
   "outputs": [
    {
     "name": "stdout",
     "output_type": "stream",
     "text": [
      "{'nombre': 'Andrea', 'edad': '35', 'sexo': 'mujer', 'casada': 'No'}\n",
      "{'nombre': 'Pedro', 'edad': '27', 'sexo': 'hombre', 'casado': 'Si'}\n",
      "{'nombre': 'Andrea', 'edad': '35', 'sexo': 'mujer'}\n",
      "{'nombre': 'Pedro', 'edad': '27', 'sexo': 'hombre'}\n"
     ]
    }
   ],
   "source": [
    "#Borrar elementos de un diccionario\n",
    "print(personas[3])\n",
    "print(personas[4])\n",
    "\n",
    "del personas[3]['casada']\n",
    "del personas[4]['casado']\n",
    "\n",
    "print(personas[3])\n",
    "print(personas[4])"
   ]
  },
  {
   "cell_type": "code",
   "execution_count": 7,
   "id": "82b3c778",
   "metadata": {},
   "outputs": [
    {
     "name": "stdout",
     "output_type": "stream",
     "text": [
      "{1: {'nombre': 'Juan', 'edad': '32', 'sexo': 'hombre'}, 2: {'nombre': 'Maria', 'edad': '29', 'sexo': 'mujer'}, 3: {'nombre': 'Andrea', 'edad': '35', 'sexo': 'mujer'}, 4: {'nombre': 'Pedro', 'edad': '27', 'sexo': 'hombre'}}\n",
      "{1: {'nombre': 'Juan', 'edad': '32', 'sexo': 'hombre'}, 2: {'nombre': 'Maria', 'edad': '29', 'sexo': 'mujer'}}\n"
     ]
    }
   ],
   "source": [
    "#Borrar un diccionario anidado a otro diccionario\n",
    "personas = {1:{'nombre': 'Juan', 'edad': '32', 'sexo': 'hombre'},\n",
    "            2:{'nombre': 'Maria', 'edad': '29', 'sexo': 'mujer'},\n",
    "            3:{'nombre': 'Andrea', 'edad': '35', 'sexo': 'mujer'},\n",
    "            4:{'nombre': 'Pedro', 'edad': '27', 'sexo': 'hombre'}}\n",
    "\n",
    "print(personas)\n",
    "\n",
    "#borrar\n",
    "del personas[3], personas[4]\n",
    "print(personas)"
   ]
  },
  {
   "cell_type": "code",
   "execution_count": 8,
   "id": "6704ec05",
   "metadata": {},
   "outputs": [
    {
     "name": "stdout",
     "output_type": "stream",
     "text": [
      "dict_items([(1, {'nombre': 'Juan', 'edad': '32', 'sexo': 'hombre'}), (2, {'nombre': 'Maria', 'edad': '29', 'sexo': 'mujer'})])\n",
      "\n",
      "ID de la persona:  1\n",
      "nombre: Juan\n",
      "edad: 32\n",
      "sexo: hombre\n",
      "\n",
      "ID de la persona:  2\n",
      "nombre: Maria\n",
      "edad: 29\n",
      "sexo: mujer\n"
     ]
    }
   ],
   "source": [
    "#Iterar a traves de un diccionario anidado\n",
    "\n",
    "print(personas.items())\n",
    "\n",
    "for p_id, p_info in personas.items():     #p_id son los id, p_info son los elementos de cada diccionario\n",
    "    print(\"\\nID de la persona: \", p_id)\n",
    "    \n",
    "    for key in p_info:\n",
    "        print(key + ':', p_info[key])"
   ]
  },
  {
   "cell_type": "code",
   "execution_count": null,
   "id": "4f83bb27",
   "metadata": {},
   "outputs": [],
   "source": []
  }
 ],
 "metadata": {
  "kernelspec": {
   "display_name": "Python 3",
   "language": "python",
   "name": "python3"
  },
  "language_info": {
   "codemirror_mode": {
    "name": "ipython",
    "version": 3
   },
   "file_extension": ".py",
   "mimetype": "text/x-python",
   "name": "python",
   "nbconvert_exporter": "python",
   "pygments_lexer": "ipython3",
   "version": "3.8.8"
  }
 },
 "nbformat": 4,
 "nbformat_minor": 5
}
