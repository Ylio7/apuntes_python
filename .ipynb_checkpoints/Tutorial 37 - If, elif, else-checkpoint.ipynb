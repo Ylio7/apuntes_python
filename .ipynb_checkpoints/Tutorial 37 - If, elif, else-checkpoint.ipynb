{
 "cells": [
  {
   "cell_type": "code",
   "execution_count": 5,
   "id": "9d2a8dfd",
   "metadata": {},
   "outputs": [
    {
     "name": "stdout",
     "output_type": "stream",
     "text": [
      "Ingrese la edad de la persona...16\n",
      "Va a 11 grado\n"
     ]
    }
   ],
   "source": [
    "#if... elif...else\n",
    "edad = int(input(\"Ingrese la edad de la persona...\"))\n",
    "if edad < 5:\n",
    "    print(\"Muy joven\")\n",
    "elif edad == 5:\n",
    "    print(\"Jardin de infantes\")\n",
    "elif ((edad > 5) and (edad < 17)):\n",
    "    grado = edad - 5\n",
    "    print(\"Va a {} grado\".format(grado))\n",
    "else:\n",
    "    print(\"Va a la universidad\")"
   ]
  },
  {
   "cell_type": "code",
   "execution_count": 8,
   "id": "597bee8f",
   "metadata": {},
   "outputs": [
    {
     "name": "stdout",
     "output_type": "stream",
     "text": [
      "Ingrese un numero...0\n",
      "Cero\n"
     ]
    }
   ],
   "source": [
    "#If anidado\n",
    "#En este programa ingresamos un numero y verificamos si es positivo, negativo o cero\n",
    "#Muestra un mensaje con esa info\n",
    "\n",
    "num = float(input(\"Ingrese un numero...\"))\n",
    "if num >= 0:\n",
    "    if num == 0:\n",
    "        print(\"Cero\")\n",
    "    else:\n",
    "        print(\"Es positivo\")\n",
    "else:\n",
    "    print(\"Es negativo\")"
   ]
  },
  {
   "cell_type": "code",
   "execution_count": null,
   "id": "740c17ca",
   "metadata": {},
   "outputs": [],
   "source": []
  }
 ],
 "metadata": {
  "kernelspec": {
   "display_name": "Python 3",
   "language": "python",
   "name": "python3"
  },
  "language_info": {
   "codemirror_mode": {
    "name": "ipython",
    "version": 3
   },
   "file_extension": ".py",
   "mimetype": "text/x-python",
   "name": "python",
   "nbconvert_exporter": "python",
   "pygments_lexer": "ipython3",
   "version": "3.8.8"
  }
 },
 "nbformat": 4,
 "nbformat_minor": 5
}
