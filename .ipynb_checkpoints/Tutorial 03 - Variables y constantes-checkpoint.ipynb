{
 "cells": [
  {
   "cell_type": "code",
   "execution_count": null,
   "id": "325ae865",
   "metadata": {},
   "outputs": [],
   "source": [
    "# Declarar y asignar valores a constantes\n",
    "PI = 3.14\n",
    "gravity = 9.8"
   ]
  },
  {
   "cell_type": "code",
   "execution_count": 3,
   "id": "c7b0d947",
   "metadata": {},
   "outputs": [
    {
     "name": "stdout",
     "output_type": "stream",
     "text": [
      "Manzana\n",
      "Banana\n",
      "100\n",
      "1 2.5 Hola\n",
      "5 5 5\n"
     ]
    }
   ],
   "source": [
    "# Declarar y asignar valores a variables\n",
    "a = \"Manzana\"\n",
    "print(a)\n",
    "\n",
    "# Cambiar el valor de una variable\n",
    "a = \"Banana\"\n",
    "print(a)\n",
    "\n",
    "a = 100\n",
    "print(a)\n",
    "\n",
    "# Asignar multipes valores a variables\n",
    "b, c, d = 1, 2.5, \"Hola\"\n",
    "print(b,c,d)\n",
    "\n",
    "#Asignar el mismo valor a multiples variables\n",
    "b = c = d = 5\n",
    "print(b, c, d)\n"
   ]
  },
  {
   "cell_type": "code",
   "execution_count": null,
   "id": "805a0976",
   "metadata": {},
   "outputs": [],
   "source": []
  }
 ],
 "metadata": {
  "kernelspec": {
   "display_name": "Python 3",
   "language": "python",
   "name": "python3"
  },
  "language_info": {
   "codemirror_mode": {
    "name": "ipython",
    "version": 3
   },
   "file_extension": ".py",
   "mimetype": "text/x-python",
   "name": "python",
   "nbconvert_exporter": "python",
   "pygments_lexer": "ipython3",
   "version": "3.8.8"
  }
 },
 "nbformat": 4,
 "nbformat_minor": 5
}
