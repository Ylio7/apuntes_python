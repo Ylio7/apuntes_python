{
 "cells": [
  {
   "cell_type": "code",
   "execution_count": 1,
   "id": "3784edb5",
   "metadata": {},
   "outputs": [
    {
     "name": "stdout",
     "output_type": "stream",
     "text": [
      "Excepción encontrada!\n"
     ]
    }
   ],
   "source": [
    "try:\n",
    "    \"\"\"\n",
    "    El codigo que podria llegar a producir una excepcion se escribe aqui\n",
    "    \"\"\"\n",
    "    \n",
    "    a = \"hola\"\n",
    "    b = int(a)  #No se puede convertir un string a un int, esto dará una excepcion\n",
    "except:\n",
    "    print(\"Excepción encontrada!\")"
   ]
  },
  {
   "cell_type": "code",
   "execution_count": null,
   "id": "f2e1b2d8",
   "metadata": {},
   "outputs": [],
   "source": [
    "try:\n",
    "    \"\"\"\n",
    "    El codigo que podria llegar a producir una excepcion se escribe aqui\n",
    "    \"\"\"\n",
    "    \n",
    "    a = \"hola\"\n",
    "    b = int(a)  #Idem anterior\n",
    "    print(\"Hola, que tal?\") #No se ejecutará. Una vez que salta el error se ejecuta lo que hay en \"except\"\n",
    "                            #Probar cambiando 'a' por un int\n",
    "except:\n",
    "    print(\"Excepción encontrada!\")"
   ]
  },
  {
   "cell_type": "code",
   "execution_count": 10,
   "id": "a9380b4f",
   "metadata": {},
   "outputs": [
    {
     "name": "stdout",
     "output_type": "stream",
     "text": [
      "No se puede dividir por cero\n"
     ]
    }
   ],
   "source": [
    "#Encontrando una excepcion especifica\n",
    "\n",
    "\"\"\"\n",
    "a = 5\n",
    "b = 0\n",
    "c = a/b  #Esto generara una excepcion llamada ZeroDivisionError\"\n",
    "\"\"\"\n",
    "#Entonces, conociendo esa excepcion, la tomamos\n",
    "\n",
    "try:\n",
    "    a = 5\n",
    "    b = 0\n",
    "    c = a/b\n",
    "    print(\"c = \",c)\n",
    "except ZeroDivisionError:\n",
    "    print(\"No se puede dividir por cero\")\n",
    "    "
   ]
  },
  {
   "cell_type": "code",
   "execution_count": 11,
   "id": "09f1027a",
   "metadata": {},
   "outputs": [
    {
     "name": "stdout",
     "output_type": "stream",
     "text": [
      "Excepcion TypeError encontrada!\n"
     ]
    }
   ],
   "source": [
    "#Tambien es posible llamar a excepciones\n",
    "try:\n",
    "    raise TypeError\n",
    "except TypeError:\n",
    "    print(\"Excepcion TypeError encontrada!\")"
   ]
  },
  {
   "cell_type": "code",
   "execution_count": 14,
   "id": "764a943e",
   "metadata": {},
   "outputs": [
    {
     "name": "stdout",
     "output_type": "stream",
     "text": [
      "en el bloque try\n",
      "En el bloque except\n",
      "En el bloque finally\n"
     ]
    }
   ],
   "source": [
    "#finally\n",
    "try:\n",
    "    print(\"en el bloque try\")\n",
    "    raise TypeError\n",
    "except:\n",
    "    print(\"En el bloque except\")\n",
    "finally:                           #Se va a ejecutar siempre, haya o no error\n",
    "    print(\"En el bloque finally\")\n",
    "    \n",
    "#Se usa mucho en el manejo de archivos externos. Supongamos que dentro del try tenemos codigo para abrir un archivo pero\n",
    "#el archivo tiene un error por algun motivo. En ese caso saltará la excepcion y si en el bloque finally tenemos codigo\n",
    "#que nos permita cerrar el archivo que intabamos abrir, el programa podra continuar sin problemas"
   ]
  },
  {
   "cell_type": "code",
   "execution_count": null,
   "id": "71a58b27",
   "metadata": {},
   "outputs": [],
   "source": []
  }
 ],
 "metadata": {
  "kernelspec": {
   "display_name": "Python 3",
   "language": "python",
   "name": "python3"
  },
  "language_info": {
   "codemirror_mode": {
    "name": "ipython",
    "version": 3
   },
   "file_extension": ".py",
   "mimetype": "text/x-python",
   "name": "python",
   "nbconvert_exporter": "python",
   "pygments_lexer": "ipython3",
   "version": "3.8.8"
  }
 },
 "nbformat": 4,
 "nbformat_minor": 5
}
