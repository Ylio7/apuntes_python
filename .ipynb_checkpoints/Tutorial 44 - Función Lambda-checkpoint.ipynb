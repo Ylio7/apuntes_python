{
 "cells": [
  {
   "cell_type": "code",
   "execution_count": 2,
   "id": "8fd580a7",
   "metadata": {},
   "outputs": [
    {
     "name": "stdout",
     "output_type": "stream",
     "text": [
      "El doble de 10 es:  20\n"
     ]
    }
   ],
   "source": [
    "#Funciones anónimas\n",
    "#Son funciones que se definen sin nombre. Se las define entonces como lambda\n",
    "\n",
    "a = lambda x:x*2\n",
    "print(\"El doble de 10 es: \",a(10))"
   ]
  },
  {
   "cell_type": "code",
   "execution_count": 7,
   "id": "48b18f32",
   "metadata": {},
   "outputs": [
    {
     "name": "stdout",
     "output_type": "stream",
     "text": [
      "[4, 6, 8, 12]\n"
     ]
    }
   ],
   "source": [
    "#Crear una nueva lista tomando solamente los numeros pares de otra lista\n",
    "\n",
    "miLista = [1,5,4,6,8,11,3,12]\n",
    "miNuevaLista = list(filter(lambda x: x%2 == 0,miLista))\n",
    "        #la funcion filter llama a todos los items de la lista y devuelve una lista nueva con aquellos items en donde la\n",
    "        #funcion evaluada devuelve true\n",
    "\n",
    "print(miNuevaLista)"
   ]
  },
  {
   "cell_type": "code",
   "execution_count": 9,
   "id": "9fc219ed",
   "metadata": {},
   "outputs": [
    {
     "name": "stdout",
     "output_type": "stream",
     "text": [
      "[2, 10, 8, 12, 16, 22, 6, 24]\n"
     ]
    }
   ],
   "source": [
    "#duplicar cada item en una lista usando map()\n",
    "\n",
    "miLista = [1,5,4,6,8,11,3,12]\n",
    "miNuevaLista = list(map(lambda x: x*2,miLista))\n",
    "\n",
    "print(miNuevaLista)"
   ]
  }
 ],
 "metadata": {
  "kernelspec": {
   "display_name": "Python 3",
   "language": "python",
   "name": "python3"
  },
  "language_info": {
   "codemirror_mode": {
    "name": "ipython",
    "version": 3
   },
   "file_extension": ".py",
   "mimetype": "text/x-python",
   "name": "python",
   "nbconvert_exporter": "python",
   "pygments_lexer": "ipython3",
   "version": "3.8.8"
  }
 },
 "nbformat": 4,
 "nbformat_minor": 5
}
