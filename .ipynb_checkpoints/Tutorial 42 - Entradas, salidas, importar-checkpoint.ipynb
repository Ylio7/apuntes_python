{
 "cells": [
  {
   "cell_type": "code",
   "execution_count": 9,
   "id": "8ac84ecb",
   "metadata": {},
   "outputs": [
    {
     "name": "stdout",
     "output_type": "stream",
     "text": [
      "Esta oración se imprime a la salida\n",
      "El valor es 5\n",
      "Esta oración se imprime a la salida. Otra oración.\n"
     ]
    }
   ],
   "source": [
    "#Algunas caracteristicas de la funcion print\n",
    "print('Esta oración se imprime a la salida')\n",
    "a = 5\n",
    "print('El valor es',a)\n",
    "\n",
    "#imprime lo siguiente en la misma linea \n",
    "print('Esta oración se imprime a la salida. ',end=\"\") \n",
    "print('Otra oración.')"
   ]
  },
  {
   "cell_type": "code",
   "execution_count": 16,
   "id": "a7bb5e89",
   "metadata": {},
   "outputs": [
    {
     "name": "stdout",
     "output_type": "stream",
     "text": [
      "1*2*3*4\n",
      "1#2#3#4&#5\n",
      "Me gusta el pan con dulce de leche\n",
      "Me gusta el dulce de leche con pan\n"
     ]
    }
   ],
   "source": [
    "#Agregar un separador\n",
    "print(1,2,3,4,sep='*')\n",
    "\n",
    "#Agregar separador y end\n",
    "print(1,2,3,4,sep='#',end='&')\n",
    "print('#5')\n",
    "\n",
    "#Identificar parametros\n",
    "print('Me gusta el {0} con {1}'.format('pan','dulce de leche'))\n",
    "#Al reves\n",
    "print('Me gusta el {1} con {0}'.format('pan','dulce de leche'))"
   ]
  },
  {
   "cell_type": "code",
   "execution_count": 23,
   "id": "8173d0a0",
   "metadata": {},
   "outputs": [
    {
     "name": "stdout",
     "output_type": "stream",
     "text": [
      "Ingrese algun numero: 55\n",
      "55\n",
      "Ingrese algun numero: 43\n",
      "43\n",
      "98\n"
     ]
    }
   ],
   "source": [
    "#Entrada\n",
    "x = input(\"Ingrese algun numero: \")\n",
    "print(x)\n",
    "y = int(input(\"Ingrese algun numero: \"))  #limito a enteros\n",
    "print(y)\n",
    "#print(x+y)        #tira error xq x es un string\n",
    "print(int(x)+y)    #ahora si"
   ]
  },
  {
   "cell_type": "code",
   "execution_count": 24,
   "id": "72cb567e",
   "metadata": {},
   "outputs": [
    {
     "name": "stdout",
     "output_type": "stream",
     "text": [
      "3025.0\n"
     ]
    }
   ],
   "source": [
    "#importar modulo\n",
    "import math   #suelen declararse al comienzo del programa\n",
    "\n",
    "print(math.pow(int(x),2))"
   ]
  },
  {
   "cell_type": "code",
   "execution_count": null,
   "id": "31f575e6",
   "metadata": {},
   "outputs": [],
   "source": []
  }
 ],
 "metadata": {
  "kernelspec": {
   "display_name": "Python 3",
   "language": "python",
   "name": "python3"
  },
  "language_info": {
   "codemirror_mode": {
    "name": "ipython",
    "version": 3
   },
   "file_extension": ".py",
   "mimetype": "text/x-python",
   "name": "python",
   "nbconvert_exporter": "python",
   "pygments_lexer": "ipython3",
   "version": "3.8.8"
  }
 },
 "nbformat": 4,
 "nbformat_minor": 5
}
