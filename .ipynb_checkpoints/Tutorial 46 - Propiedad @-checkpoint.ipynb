{
 "cells": [
  {
   "cell_type": "code",
   "execution_count": 10,
   "id": "a348864c",
   "metadata": {},
   "outputs": [
    {
     "name": "stdout",
     "output_type": "stream",
     "text": [
      "Asignando valor de temperatura\n",
      "Obteniendo valor de temperatura\n",
      "5\n",
      "Asignando valor de temperatura\n",
      "Obteniendo valor de temperatura\n",
      "100\n",
      "100\n",
      "500\n"
     ]
    }
   ],
   "source": [
    "#Demostración del uso de la propiedad\n",
    "\n",
    "class Temp_Celsius:\n",
    "    def __init__(self, temperatura = 0):\n",
    "        print(\"Asignando valor de temperatura\")\n",
    "        self._temperatura = temperatura\n",
    "        self.temp = 500\n",
    "    \n",
    "    def convertir_a_farenheit(self):\n",
    "        return (self._temperatura *1.8)+32\n",
    "    \n",
    "    def get_temperatura(self):\n",
    "        print(\"Obteniendo valor de temperatura\")\n",
    "        return self._temperatura\n",
    "    \n",
    "    def set_temperatura(self, valor):\n",
    "        if valor < -273:\n",
    "            raise ValueError(\"Temperaturas por debajo de los -273 no son posibles\")\n",
    "        print(\"Asignando valor de temperatura\")\n",
    "        self._temperatura = valor\n",
    "    \n",
    "    #property() es una funcion que viene con python para crear y devolver un objeto de propiedad\n",
    "    #property(fget=None, fset=None, fdel=None, doc=None)  (doc es para un string con comentarios)\n",
    "    #El objeto propiedad tiene 3 metodos, getter(), setter() y delete()\n",
    "    \n",
    "    \n",
    "    #Hacemos un objeto propiedad vacio\n",
    "    temperatura = property()\n",
    "    #Asigno getter\n",
    "    temperatura = temperatura.getter(get_temperatura)\n",
    "    #Asigo setter\n",
    "    temperatura = temperatura.setter(set_temperatura)\n",
    "    \n",
    "    #Como alternativa se puede usar un objeto de propiedad con los argumentos set y get:\n",
    "    #temperatura = property(get_temperatura, set_temperatura)  #Probar esto luego de comentar las lineas anteriores!\n",
    "\n",
    "c = Temp_Celsius(5)\n",
    "print(c.temperatura)\n",
    "c.temperatura = 100\n",
    "print(c.temperatura)\n",
    "\n",
    "#con __dict__ tomamos los argumentos del objeto\n",
    "print(c.__dict__[\"_temperatura\"])\n",
    "print(c.__dict__[\"temp\"])\n",
    "    "
   ]
  },
  {
   "cell_type": "code",
   "execution_count": 12,
   "id": "c82c1b56",
   "metadata": {},
   "outputs": [
    {
     "name": "stdout",
     "output_type": "stream",
     "text": [
      "Obteniendo valor\n",
      "5\n",
      "Asignando valor\n",
      "Obteniendo valor\n",
      "100\n"
     ]
    }
   ],
   "source": [
    "#Usar property() como un decorador\n",
    "\n",
    "class Celsius:\n",
    "    def __init__(self, temperatura = 0):\n",
    "        self._temperatura = temperatura\n",
    "            \n",
    "    def a_farenheit(self):\n",
    "        return (self._temperatura *1.8)+32\n",
    "    \n",
    "    @property                   #Asi escrito denota el metodo getter\n",
    "    def temperatura(self):\n",
    "        print(\"Obteniendo valor\")\n",
    "        return self._temperatura\n",
    "    \n",
    "    @temperatura.setter         #Asi escrito denota el metodo setter\n",
    "    def temperatura(self, valor):\n",
    "        if valor < -273:\n",
    "            raise ValueError(\"Temperaturas por debajo de los -273 no son posibles\")\n",
    "        print(\"Asignando valor\")\n",
    "        self._temperatura = valor\n",
    "\n",
    "c = Celsius(5)\n",
    "print(c.temperatura)\n",
    "c.temperatura = 100\n",
    "print(c.temperatura)"
   ]
  },
  {
   "cell_type": "code",
   "execution_count": null,
   "id": "9ace8ead",
   "metadata": {},
   "outputs": [],
   "source": []
  }
 ],
 "metadata": {
  "kernelspec": {
   "display_name": "Python 3",
   "language": "python",
   "name": "python3"
  },
  "language_info": {
   "codemirror_mode": {
    "name": "ipython",
    "version": 3
   },
   "file_extension": ".py",
   "mimetype": "text/x-python",
   "name": "python",
   "nbconvert_exporter": "python",
   "pygments_lexer": "ipython3",
   "version": "3.8.8"
  }
 },
 "nbformat": 4,
 "nbformat_minor": 5
}
