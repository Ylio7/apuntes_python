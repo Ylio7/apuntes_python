{
 "cells": [
  {
   "cell_type": "code",
   "execution_count": 8,
   "id": "4c80a9d6",
   "metadata": {},
   "outputs": [
    {
     "name": "stdout",
     "output_type": "stream",
     "text": [
      "Ingrese el primer numero...12321442\n",
      "Ingrese el segundo numero...21314\n",
      "12321442 / 21314 = 578.0914891620531\n"
     ]
    }
   ],
   "source": [
    "#Encontrando una excepcion especifica\n",
    "try:\n",
    "    a = int(input(\"Ingrese el primer numero...\"))\n",
    "    b = int(input(\"Ingrese el segundo numero...\"))\n",
    "    c = a/b\n",
    "    print(\"{} / {} = {}\".format(a,b,c))\n",
    "except ZeroDivisionError:\n",
    "    print(\"No se puede dividir por cero\")\n",
    "    \n",
    "except ValueError:    #se activa si ingresamos cualquier cosa que no sea un int\n",
    "    print(\"El tipo de dato ingresado es incorrecto\")"
   ]
  },
  {
   "cell_type": "code",
   "execution_count": 11,
   "id": "17273be0",
   "metadata": {},
   "outputs": [
    {
     "name": "stdout",
     "output_type": "stream",
     "text": [
      "Ingrese el primer numero...23\n",
      "Ingrese el segundo numero...23\n",
      "23 / 23 = 1.0\n"
     ]
    }
   ],
   "source": [
    "#Idem anterior\n",
    "try:\n",
    "    a = int(input(\"Ingrese el primer numero...\"))\n",
    "    b = int(input(\"Ingrese el segundo numero...\"))\n",
    "    if(a < 0):   #pongo una restriccion cualquiera al numerador\n",
    "        raise TypeError\n",
    "    c = a/b\n",
    "    print(\"{} / {} = {}\".format(a,b,c))\n",
    "except ZeroDivisionError:\n",
    "    print(\"No se puede dividir por cero\")    \n",
    "except ValueError:\n",
    "    print(\"El tipo de dato ingresado es incorrecto\")\n",
    "except TypeError:\n",
    "    print(\"El dato ingresado esta fuera del rango de valores admitidos\")"
   ]
  },
  {
   "cell_type": "code",
   "execution_count": 12,
   "id": "16b54f3c",
   "metadata": {},
   "outputs": [
    {
     "name": "stdout",
     "output_type": "stream",
     "text": [
      "Ingrese el primer numero...323\n",
      "Ingrese el segundo numero...4\n",
      "Los items x e y no estan definidos\n"
     ]
    }
   ],
   "source": [
    "#Idem anterior\n",
    "try:\n",
    "    a = int(input(\"Ingrese el primer numero...\"))\n",
    "    b = int(input(\"Ingrese el segundo numero...\"))\n",
    "    if(a < 0):\n",
    "        raise TypeError\n",
    "    c = x/y    #pongo x e y que no estan definidas -> NameError\n",
    "    print(\"{} / {} = {}\".format(a,b,c))\n",
    "except ZeroDivisionError:\n",
    "    print(\"No se puede dividir por cero\")    \n",
    "except ValueError:\n",
    "    print(\"El tipo de dato ingresado es incorrecto\")\n",
    "except TypeError:\n",
    "    print(\"El dato ingresado esta fuera del rango de valores admitidos\")\n",
    "except NameError:\n",
    "    print(\"Los items x e y no estan definidos\")"
   ]
  },
  {
   "cell_type": "code",
   "execution_count": null,
   "id": "fc606974",
   "metadata": {},
   "outputs": [],
   "source": []
  }
 ],
 "metadata": {
  "kernelspec": {
   "display_name": "Python 3",
   "language": "python",
   "name": "python3"
  },
  "language_info": {
   "codemirror_mode": {
    "name": "ipython",
    "version": 3
   },
   "file_extension": ".py",
   "mimetype": "text/x-python",
   "name": "python",
   "nbconvert_exporter": "python",
   "pygments_lexer": "ipython3",
   "version": "3.8.8"
  }
 },
 "nbformat": 4,
 "nbformat_minor": 5
}
