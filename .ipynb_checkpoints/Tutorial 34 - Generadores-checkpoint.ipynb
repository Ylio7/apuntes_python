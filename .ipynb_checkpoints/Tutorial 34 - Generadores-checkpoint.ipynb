{
 "cells": [
  {
   "cell_type": "code",
   "execution_count": 7,
   "id": "3f7f9dfe",
   "metadata": {},
   "outputs": [
    {
     "name": "stdout",
     "output_type": "stream",
     "text": [
      "Esto se imprime primero\n",
      "Esto se imprime segundo\n",
      "Esto se imprime al final\n",
      "\n",
      "Iterando con un 'for'...\n",
      "Esto se imprime primero\n",
      "1\n",
      "Esto se imprime segundo\n",
      "2\n",
      "Esto se imprime al final\n",
      "3\n"
     ]
    }
   ],
   "source": [
    "#Una simple funcion generadora\n",
    "#Forma de crear iteradores\n",
    "#En terminos simples, un generador (o funcion generadora) devuelve un objeto que es el iterador\n",
    "    \n",
    "\n",
    "def miGenerador():\n",
    "    n = 1\n",
    "    print(\"Esto se imprime primero\")\n",
    "    \n",
    "    #Las funciones generadoras contienen elementos 'yield' ()\n",
    "    #En vez de un 'return', se usa 'yield' para pausar una funcion, guardar sus estado y luego continuar\n",
    "    #Con 'next' se va iterando de forma discreta\n",
    "    \n",
    "    yield n\n",
    "    n += 1\n",
    "    print(\"Esto se imprime segundo\")\n",
    "    \n",
    "    yield n\n",
    "    n += 1\n",
    "    print(\"Esto se imprime al final\")\n",
    "    yield n\n",
    "\n",
    "#Ahora iteramos el generador usando 'next'\n",
    "a = miGenerador()\n",
    "next(a)\n",
    "next(a)\n",
    "next(a)\n",
    "\n",
    "#Iterar ahora pero usando 'for'\n",
    "print(\"\\nIterando con un 'for'...\")\n",
    "for i in miGenerador():\n",
    "    print(i)\n",
    "    "
   ]
  },
  {
   "cell_type": "code",
   "execution_count": 11,
   "id": "52d64e83",
   "metadata": {},
   "outputs": [
    {
     "name": "stdout",
     "output_type": "stream",
     "text": [
      "A\n",
      "T\n",
      "E\n",
      "N\n",
      "A\n",
      "L\n",
      "P\n"
     ]
    }
   ],
   "source": [
    "#Generadores con loop\n",
    "#Hagamos un generador que me invierta un string\n",
    "\n",
    "def string_inverso(mi_string):\n",
    "    largo = len(mi_string)\n",
    "    for i in range(largo -1,-1,-1):\n",
    "        yield mi_string[i]\n",
    "\n",
    "#Usamos un for para invertir un string\n",
    "\n",
    "for char in string_inverso(\"PLANETA\"):\n",
    "    print(char)"
   ]
  },
  {
   "cell_type": "code",
   "execution_count": null,
   "id": "af45d190",
   "metadata": {},
   "outputs": [],
   "source": []
  }
 ],
 "metadata": {
  "kernelspec": {
   "display_name": "Python 3",
   "language": "python",
   "name": "python3"
  },
  "language_info": {
   "codemirror_mode": {
    "name": "ipython",
    "version": 3
   },
   "file_extension": ".py",
   "mimetype": "text/x-python",
   "name": "python",
   "nbconvert_exporter": "python",
   "pygments_lexer": "ipython3",
   "version": "3.8.8"
  }
 },
 "nbformat": 4,
 "nbformat_minor": 5
}
