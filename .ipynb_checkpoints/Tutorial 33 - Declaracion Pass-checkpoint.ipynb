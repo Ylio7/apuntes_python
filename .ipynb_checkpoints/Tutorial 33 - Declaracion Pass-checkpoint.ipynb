{
 "cells": [
  {
   "cell_type": "code",
   "execution_count": 1,
   "id": "4d1fa5c2",
   "metadata": {},
   "outputs": [
    {
     "name": "stdout",
     "output_type": "stream",
     "text": [
      "Fin del programa...\n"
     ]
    }
   ],
   "source": [
    "#Pass es un placeholder para agregar luego alguna funcionalidad alli\n",
    "secuencia = {'p', 'a','s','s'}\n",
    "for val in secuencia:\n",
    "    pass\n",
    "print(\"Fin del programa...\")"
   ]
  },
  {
   "cell_type": "code",
   "execution_count": null,
   "id": "7156b5e8",
   "metadata": {},
   "outputs": [],
   "source": []
  },
  {
   "cell_type": "code",
   "execution_count": null,
   "id": "ce786521",
   "metadata": {},
   "outputs": [],
   "source": []
  }
 ],
 "metadata": {
  "kernelspec": {
   "display_name": "Python 3",
   "language": "python",
   "name": "python3"
  },
  "language_info": {
   "codemirror_mode": {
    "name": "ipython",
    "version": 3
   },
   "file_extension": ".py",
   "mimetype": "text/x-python",
   "name": "python",
   "nbconvert_exporter": "python",
   "pygments_lexer": "ipython3",
   "version": "3.8.8"
  }
 },
 "nbformat": 4,
 "nbformat_minor": 5
}
