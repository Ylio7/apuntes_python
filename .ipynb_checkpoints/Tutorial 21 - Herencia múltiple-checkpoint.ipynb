{
 "cells": [
  {
   "cell_type": "code",
   "execution_count": 1,
   "id": "1dfcc6de",
   "metadata": {},
   "outputs": [],
   "source": [
    "#Herencia multple\n",
    "\n",
    "class Base1():\n",
    "    pass\n",
    "\n",
    "class Base2():\n",
    "    pass\n",
    "\n",
    "class DerivacionMultiple(Base1,Base2):\n",
    "    pass\n",
    "\n",
    "#ejecutar y verificar que no hay error"
   ]
  },
  {
   "cell_type": "code",
   "execution_count": 4,
   "id": "58eb5fca",
   "metadata": {},
   "outputs": [],
   "source": [
    "#Herencia multple\n",
    "\n",
    "class Base1:\n",
    "\n",
    "    def funcBase1(self):\n",
    "        print(\"funcBase1() ejecutandose...\")\n",
    "\n",
    "class Base2:    \n",
    "    def funcBase2(self):\n",
    "        print(\"funcBase2() ejecutandose...\")\n",
    "\n",
    "class Base3:    \n",
    "    def funcBase3(self):\n",
    "        print(\"funcBase3() ejecutandose...\")\n",
    "        \n",
    "class DerivacionMultiple(Base1,Base2,Base3):\n",
    "    def funcDerivacionMultiple(self):\n",
    "        print(\"funcDerivacionMultiple() ejecutandose...\")\n",
    "        \n",
    "#ejecutar y verificar que no hay error"
   ]
  },
  {
   "cell_type": "code",
   "execution_count": 5,
   "id": "510e826c",
   "metadata": {},
   "outputs": [
    {
     "name": "stdout",
     "output_type": "stream",
     "text": [
      "funcBase1() ejecutandose...\n",
      "funcBase2() ejecutandose...\n",
      "funcBase3() ejecutandose...\n",
      "funcDerivacionMultiple() ejecutandose...\n"
     ]
    }
   ],
   "source": [
    "dm1 = DerivacionMultiple()\n",
    "dm1.funcBase1()\n",
    "dm1.funcBase2()\n",
    "dm1.funcBase3()\n",
    "dm1.funcDerivacionMultiple()"
   ]
  },
  {
   "cell_type": "code",
   "execution_count": null,
   "id": "e35b009c",
   "metadata": {},
   "outputs": [],
   "source": []
  }
 ],
 "metadata": {
  "kernelspec": {
   "display_name": "Python 3",
   "language": "python",
   "name": "python3"
  },
  "language_info": {
   "codemirror_mode": {
    "name": "ipython",
    "version": 3
   },
   "file_extension": ".py",
   "mimetype": "text/x-python",
   "name": "python",
   "nbconvert_exporter": "python",
   "pygments_lexer": "ipython3",
   "version": "3.8.8"
  }
 },
 "nbformat": 4,
 "nbformat_minor": 5
}
