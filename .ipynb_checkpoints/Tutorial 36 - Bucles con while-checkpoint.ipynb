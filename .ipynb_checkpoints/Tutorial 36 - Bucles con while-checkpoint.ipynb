{
 "cells": [
  {
   "cell_type": "code",
   "execution_count": null,
   "id": "9e4ed26b",
   "metadata": {},
   "outputs": [],
   "source": [
    "#Usando while\n",
    "#Mientras se cumpla la condición, se ejecutará la tarea\n",
    "\n",
    "i = 3\n",
    "while i > 0:\n",
    "    print(i)\n",
    "    i -= 1"
   ]
  },
  {
   "cell_type": "code",
   "execution_count": null,
   "id": "6ace73c4",
   "metadata": {},
   "outputs": [],
   "source": [
    "while i < 10:\n",
    "    print(i)\n",
    "    i +=1\n",
    "else:\n",
    "    print(\"Loop completo\")"
   ]
  },
  {
   "cell_type": "code",
   "execution_count": null,
   "id": "4aaa0d8e",
   "metadata": {},
   "outputs": [],
   "source": [
    "#Programa para mostrar un patron usando loops\n",
    "#n = cantidad de *\n",
    "                    \n",
    "                               #Esta tabla cuenta la cantidad de espacios en blanco(.) y la cantidad de *\n",
    "n = 6                           i  .  *\n",
    "                               ----------\n",
    ".....*                          1  5  1\n",
    "....***                         2  4  3       .  => la logica para contar los . es n - i\n",
    "...*****                        3  3  5\n",
    "..*******                       4  2  7       *  => la logica para contar los * es 2*i - 1\n",
    ".*********                      5  1  9\n",
    "***********                     6  0  11\n",
    "                               ----------\n",
    "#Ahora que tenemos la logica, la implementamos:"
   ]
  },
  {
   "cell_type": "code",
   "execution_count": null,
   "id": "107e9e75",
   "metadata": {},
   "outputs": [],
   "source": [
    "n = int(input(\"Ingrese la cantidad de capas...\"))\n",
    "i = 1\n",
    "\n",
    "while i <= n:\n",
    "    j = 1\n",
    "    while j <= n - i:\n",
    "        print(\".\",end=\"\")\n",
    "        j = j + 1\n",
    "    j = 1\n",
    "    while j <= 2*i - 1:\n",
    "        print(\"*\",end=\"\")\n",
    "        j = j + 1\n",
    "    print()\n",
    "    i = i + 1"
   ]
  },
  {
   "cell_type": "code",
   "execution_count": null,
   "id": "c2b5c8c4",
   "metadata": {},
   "outputs": [],
   "source": [
    "#Programa para mostrar otro patron usando loops\n",
    "#n = cantidad de *\n",
    "                    \n",
    "                               #Esta tabla cuenta la cantidad de espacios en blanco(.) y la cantidad de *\n",
    "n = 11 (impar)                  i  .  *\n",
    "m = (n+1)/2=6                  ----------\n",
    "***********                     1  0  11\n",
    ".*********                      2  1  9       .  => la logica para contar los . es: i - 1 si i <= (n+1)/2\n",
    "..*******                       3  2  7                                             n - i si i > (n+1)/2\n",
    "...*****                        4  3  5       \n",
    "....***                         5  4  3  \n",
    ".....*                        __6__5__1__     *  => la logica para contar los * es: n-(2*i-2) si i <= (n+1)/2 (ó 2*(m-i)+1)\n",
    "....***                         7  4  3                                             2*i-n     si i > (n+1)/2  (ó 2*(i-m)+1)\n",
    "...*****                        8  3  5\n",
    "..*******                       9  2  7\n",
    ".*********                      10 1  9\n",
    "***********                     11 0  11\n",
    "#Ahora que tenemos la logica, la implementamos:"
   ]
  },
  {
   "cell_type": "code",
   "execution_count": null,
   "id": "58f742e6",
   "metadata": {},
   "outputs": [],
   "source": [
    "n = int(input(\"Ingrese la cantidad de capas...\"))\n",
    "i = 1\n",
    "\n",
    "#Calculamos la media:\n",
    "m = (n+1)/2\n",
    "\n",
    "#Definimos b = espacios en blanco (.) y  e = estrellas (*)\n",
    "\n",
    "while i <= n:\n",
    "    if (i > m):\n",
    "        b = n -i\n",
    "        e = 2*i-n\n",
    "    else:\n",
    "        b = i - 1\n",
    "        e = n-(2*i-2)\n",
    "    \n",
    "    j = 1\n",
    "    while j <= b:\n",
    "        print(\".\",end=\"\")\n",
    "        j = j + 1\n",
    "    j = 1\n",
    "    while j <= e:\n",
    "        print(\"*\",end=\"\")\n",
    "        j = j + 1\n",
    "    print()\n",
    "    i = i + 1"
   ]
  },
  {
   "cell_type": "code",
   "execution_count": null,
   "id": "ff7bbcd6",
   "metadata": {},
   "outputs": [],
   "source": [
    "#Programa para mostrar otro patron usando loops\n",
    "#n = cantidad de *\n",
    "                    \n",
    "                               #Esta tabla cuenta la cantidad de espacios en blanco(.) y la cantidad de *\n",
    "n = 11 (impar)                  i  .  *\n",
    "m = (n+1)/2=6                  ----------\n",
    ".....*                          1  5  1\n",
    "....***                         2  4  3       .  => la logica para contar los . es: m - i si i <= m\n",
    "...*****                        3  3  5                                             i - m si i > m\n",
    "..*******                       4  2  7       \n",
    ".*********                      5  1  9  \n",
    "***********                   __6__0__11__    *  => la logica para contar los * es: 2*i-1     si i <= m\n",
    ".*********                      7  1  9                                             n-2*(i-m) si i > m\n",
    "..*******                       8  2  7\n",
    "...*****                        9  3  5\n",
    "....***                         10 4  3\n",
    ".....*                          11 5  1\n",
    "\n",
    "#Ahora que tenemos la logica, la implementamos:"
   ]
  },
  {
   "cell_type": "code",
   "execution_count": null,
   "id": "417669e3",
   "metadata": {},
   "outputs": [],
   "source": [
    "n = int(input(\"Ingrese la cantidad de capas...\"))\n",
    "i = 1\n",
    "\n",
    "#Calculamos la media:\n",
    "m = (n+1)/2\n",
    "\n",
    "#Definimos b = espacios en blanco (.) y  e = estrellas (*)\n",
    "\n",
    "while i <= n:\n",
    "    if (i > m):\n",
    "        b = i -m\n",
    "        e = n-2*(i-m)\n",
    "    else:\n",
    "        b = m - i\n",
    "        e = 2*i-1\n",
    "    \n",
    "    j = 1\n",
    "    while j <= b:\n",
    "        print(\".\",end=\"\")\n",
    "        j = j + 1\n",
    "    j = 1\n",
    "    while j <= e:\n",
    "        print(\"*\",end=\"\")\n",
    "        j = j + 1\n",
    "    print()\n",
    "    i = i + 1"
   ]
  },
  {
   "cell_type": "code",
   "execution_count": null,
   "id": "d073149f",
   "metadata": {},
   "outputs": [],
   "source": []
  },
  {
   "cell_type": "code",
   "execution_count": null,
   "id": "a3fb6e33",
   "metadata": {},
   "outputs": [],
   "source": []
  }
 ],
 "metadata": {
  "kernelspec": {
   "display_name": "Python 3",
   "language": "python",
   "name": "python3"
  },
  "language_info": {
   "codemirror_mode": {
    "name": "ipython",
    "version": 3
   },
   "file_extension": ".py",
   "mimetype": "text/x-python",
   "name": "python",
   "nbconvert_exporter": "python",
   "pygments_lexer": "ipython3",
   "version": "3.8.8"
  }
 },
 "nbformat": 4,
 "nbformat_minor": 5
}
