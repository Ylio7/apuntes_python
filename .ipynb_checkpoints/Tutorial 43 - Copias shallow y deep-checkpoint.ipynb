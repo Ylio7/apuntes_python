{
 "cells": [
  {
   "cell_type": "code",
   "execution_count": null,
   "id": "e71fb62f",
   "metadata": {},
   "outputs": [],
   "source": [
    "#copiemos una lista\n",
    "lista1 = [[1,2,3],[4,5,6],[7,8,9]]\n",
    "lista2 = lista1\n",
    "print('Lista 1 -> ',lista1)\n",
    "print('Lista 2 -> ',lista2)\n",
    "print('iD de Lista 1 -> ',id(lista1))\n",
    "print('iD de Lista 2 -> ',id(lista2))   #vemos que refieren a la misma direccion de memoria. Son lo mismo. Modificar\n",
    "                                        #uno, modifica el otro\n",
    "lista1.append([10,11,12])\n",
    "print('Lista 1 -> ',lista1)\n",
    "print('Lista 2 -> ',lista2)"
   ]
  },
  {
   "cell_type": "code",
   "execution_count": 1,
   "id": "62b558d7",
   "metadata": {},
   "outputs": [
    {
     "name": "stdout",
     "output_type": "stream",
     "text": [
      "Lista vieja:  [[1, 2, 3], [4, 5, 6], [7, 8, 9]]\n",
      "Lista nueva:  [[1, 2, 3], [4, 5, 6], [7, 8, 9]]\n",
      "id Lista vieja:  1978761616768\n",
      "id Lista nueva:  1978761378048\n"
     ]
    }
   ],
   "source": [
    "#Crear una copia usando Shallow copy\n",
    "#Shallow copy crea un nuevo objeto que almacena la referencia de los elementos originales\n",
    "import copy\n",
    "\n",
    "lista_vieja = [[1,2,3],[4,5,6],[7,8,9]]\n",
    "lista_nueva = copy.copy(lista_vieja)\n",
    "\n",
    "print(\"Lista vieja: \",lista_vieja)\n",
    "print(\"Lista nueva: \",lista_nueva)\n",
    "print(\"id Lista vieja: \",id(lista_vieja))\n",
    "print(\"id Lista nueva: \", id(lista_nueva))   #Son elementos distintos"
   ]
  },
  {
   "cell_type": "code",
   "execution_count": 5,
   "id": "e91d89eb",
   "metadata": {},
   "outputs": [
    {
     "name": "stdout",
     "output_type": "stream",
     "text": [
      "Lista vieja:  [[1, 2, 3], [4, 'AA', 6], [7, 8, 9], [4, 'BB', 4], [4, 4, 4], [4, 4, 4], [4, 4, 4]]\n",
      "Lista nueva:  [[1, 2, 3], [4, 'AA', 6], [7, 8, 9]]\n",
      "Lista vieja:  [[1, 2, 3], [4, 'AA', 6], [7, 8, 9], [4, 'BB', 4], [4, 4, 4], [4, 4, 4], [4, 4, 4]]\n",
      "Lista nueva:  [[1, 2, 3], [4, 'AA', 6], [7, 8, 9]]\n",
      "Lista vieja:  [[1, 2, 3], [4, 'AA', 6], [7, 8, 9], [4, 'BB', 4], [4, 4, 4], [4, 4, 4], [4, 4, 4]]\n",
      "Lista nueva:  [[1, 2, 3], [4, 'AA', 6], [7, 8, 9]]\n"
     ]
    }
   ],
   "source": [
    "#Veamos que pasa si agregamos elementos a una de las listas\n",
    "lista_vieja.append([4,4,4])\n",
    "print(\"Lista vieja: \",lista_vieja)\n",
    "print(\"Lista nueva: \",lista_nueva)\n",
    "\n",
    "#Y ahora agregamos un nuevo objeto anidado\n",
    "lista_vieja[1][1] = 'AA'\n",
    "print(\"Lista vieja: \",lista_vieja)\n",
    "print(\"Lista nueva: \",lista_nueva)\n",
    "\n",
    "lista_vieja[3][1] = 'BB'\n",
    "print(\"Lista vieja: \",lista_vieja)\n",
    "print(\"Lista nueva: \",lista_nueva)\n",
    "\n",
    "#Vemos que una Shallow copy no copia objetos anidados, copia sus referencias"
   ]
  },
  {
   "cell_type": "code",
   "execution_count": 9,
   "id": "5aecb135",
   "metadata": {},
   "outputs": [
    {
     "name": "stdout",
     "output_type": "stream",
     "text": [
      "Lista vieja:  [[1, 1, 1], [2, 2, 2], [3, 3, 3]]\n",
      "Lista nueva:  [[1, 1, 1], [2, 2, 2], [3, 3, 3]]\n",
      "iD de Lista vieja ->  1978762157888\n",
      "iD de Lista nueva ->  1978761593664\n"
     ]
    }
   ],
   "source": [
    "#Copiar una lista con deep copy\n",
    "import copy\n",
    "lista_vieja = [[1,1,1],[2,2,2],[3,3,3]]\n",
    "lista_nueva = copy.deepcopy(lista_vieja)\n",
    "\n",
    "print(\"Lista vieja: \",lista_vieja)\n",
    "print(\"Lista nueva: \",lista_nueva)\n",
    "\n",
    "print('iD de Lista vieja -> ',id(lista_vieja))\n",
    "print('iD de Lista nueva -> ',id(lista_nueva))"
   ]
  },
  {
   "cell_type": "code",
   "execution_count": 10,
   "id": "3745cc16",
   "metadata": {},
   "outputs": [
    {
     "name": "stdout",
     "output_type": "stream",
     "text": [
      "Lista vieja:  [[1, 1, 1], ['CC', 2, 2], [3, 3, 3]]\n",
      "Lista nueva:  [[1, 1, 1], [2, 2, 2], [3, 3, 3]]\n"
     ]
    }
   ],
   "source": [
    "#Agregar un objeto anidado nuevo en la lista usando deep copy\n",
    "lista_vieja[1][0] = 'CC'\n",
    "print(\"Lista vieja: \",lista_vieja)\n",
    "print(\"Lista nueva: \",lista_nueva)"
   ]
  },
  {
   "cell_type": "code",
   "execution_count": null,
   "id": "d71c4af5",
   "metadata": {},
   "outputs": [],
   "source": []
  }
 ],
 "metadata": {
  "kernelspec": {
   "display_name": "Python 3",
   "language": "python",
   "name": "python3"
  },
  "language_info": {
   "codemirror_mode": {
    "name": "ipython",
    "version": 3
   },
   "file_extension": ".py",
   "mimetype": "text/x-python",
   "name": "python",
   "nbconvert_exporter": "python",
   "pygments_lexer": "ipython3",
   "version": "3.8.8"
  }
 },
 "nbformat": 4,
 "nbformat_minor": 5
}
