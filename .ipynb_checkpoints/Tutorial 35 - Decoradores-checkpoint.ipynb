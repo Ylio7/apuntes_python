{
 "cells": [
  {
   "cell_type": "code",
   "execution_count": 3,
   "id": "3edca546",
   "metadata": {},
   "outputs": [
    {
     "name": "stdout",
     "output_type": "stream",
     "text": [
      "Me decoraron\n",
      "Soy una funcion simple\n"
     ]
    }
   ],
   "source": [
    "#Los decoradores agregan funcionalidades a un programa existente\n",
    "#Se lo conoce tambien como 'metaprogramacion', ya que una parte del programa intenta modificar otra parte del mismo\n",
    "\n",
    "#Demostracion\n",
    "\n",
    "def decorar(func):\n",
    "    def funcion_interna():\n",
    "        print(\"Me decoraron\")\n",
    "        func()\n",
    "    return funcion_interna\n",
    "\n",
    "def funcion_simple():\n",
    "    print(\"Soy una funcion simple\")\n",
    "    \n",
    "decor = decorar(funcion_simple)\n",
    "decor()"
   ]
  },
  {
   "cell_type": "code",
   "execution_count": 5,
   "id": "19912c80",
   "metadata": {},
   "outputs": [
    {
     "name": "stdout",
     "output_type": "stream",
     "text": [
      "Me decoraron\n",
      "Soy una funcion simple\n"
     ]
    }
   ],
   "source": [
    "#La forma correcta de utilizar estos decoradores es mediante @\n",
    "\n",
    "def decorar(func):\n",
    "    def funcion_interna():\n",
    "        print(\"Me decoraron\")\n",
    "        func()\n",
    "    return funcion_interna\n",
    "\n",
    "@decorar  #Esto indica que la funcion definida a continuacion se utiliza como argunmento de la func 'decorar'\n",
    "def funcion_simple():\n",
    "    print(\"Soy una funcion simple\")\n",
    "    \n",
    "funcion_simple()"
   ]
  },
  {
   "cell_type": "code",
   "execution_count": 6,
   "id": "82ef766e",
   "metadata": {},
   "outputs": [
    {
     "name": "stdout",
     "output_type": "stream",
     "text": [
      "Estoy dividiendo  15  y 3\n",
      "5.0\n",
      "Estoy dividiendo  15  y 0\n",
      "No se puede dividir por cero!\n",
      "None\n"
     ]
    }
   ],
   "source": [
    "#Otro ejemplo\n",
    "def mi_division_inteligente(func):\n",
    "    def func_interna(x,y):\n",
    "        print(\"Estoy dividiendo \",x,\" y\",y)\n",
    "        if y == 0:\n",
    "            print(\"No se puede dividir por cero!\")\n",
    "            return\n",
    "        \n",
    "        return func(x,y)\n",
    "    return func_interna\n",
    "\n",
    "@mi_division_inteligente\n",
    "def dividir(a,b):            #Anteriormente decorabamos la funcion y la reasignabamos como \n",
    "    return a/b               #dividir = mi_division_inteligente(dividir)\n",
    "\n",
    "print(dividir(15,3))\n",
    "print(dividir(15,0))\n"
   ]
  },
  {
   "cell_type": "code",
   "execution_count": null,
   "id": "180ce64a",
   "metadata": {},
   "outputs": [],
   "source": []
  }
 ],
 "metadata": {
  "kernelspec": {
   "display_name": "Python 3",
   "language": "python",
   "name": "python3"
  },
  "language_info": {
   "codemirror_mode": {
    "name": "ipython",
    "version": 3
   },
   "file_extension": ".py",
   "mimetype": "text/x-python",
   "name": "python",
   "nbconvert_exporter": "python",
   "pygments_lexer": "ipython3",
   "version": "3.8.8"
  }
 },
 "nbformat": 4,
 "nbformat_minor": 5
}
