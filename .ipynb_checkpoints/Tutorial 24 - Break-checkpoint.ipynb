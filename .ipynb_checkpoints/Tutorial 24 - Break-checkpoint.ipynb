{
 "cells": [
  {
   "cell_type": "code",
   "execution_count": 1,
   "id": "dbde4988",
   "metadata": {},
   "outputs": [
    {
     "name": "stdout",
     "output_type": "stream",
     "text": [
      "Numero a adivinar:  4\n",
      "Numero adivinado:  1\n",
      "Numero adivinado:  2\n",
      "Numero adivinado:  3\n",
      "Numero adivinado:  4\n",
      "El numero aleatorio ha sido adivinado correctamente!\n",
      "Fin del programa\n"
     ]
    }
   ],
   "source": [
    "import random as r\n",
    "rand_num = r.randrange(1,20)  #genera un num aleatorio entre 0 y 19\n",
    "print(\"Numero a adivinar: \",rand_num)\n",
    "i = 1\n",
    "while True:\n",
    "    print(\"Numero adivinado: \",i)\n",
    "    if(i == rand_num):  #si el numero es adivinado se activa el bloque\n",
    "        print(\"El numero aleatorio ha sido adivinado correctamente!\")\n",
    "        break #una vez ya adivinado el numero se termina la comparación\n",
    "    i += 1\n",
    "print(\"Fin del programa\")"
   ]
  },
  {
   "cell_type": "code",
   "execution_count": null,
   "id": "6bd5fb7d",
   "metadata": {},
   "outputs": [],
   "source": []
  },
  {
   "cell_type": "code",
   "execution_count": null,
   "id": "f1feaf7c",
   "metadata": {},
   "outputs": [],
   "source": []
  }
 ],
 "metadata": {
  "kernelspec": {
   "display_name": "Python 3",
   "language": "python",
   "name": "python3"
  },
  "language_info": {
   "codemirror_mode": {
    "name": "ipython",
    "version": 3
   },
   "file_extension": ".py",
   "mimetype": "text/x-python",
   "name": "python",
   "nbconvert_exporter": "python",
   "pygments_lexer": "ipython3",
   "version": "3.8.8"
  }
 },
 "nbformat": 4,
 "nbformat_minor": 5
}
