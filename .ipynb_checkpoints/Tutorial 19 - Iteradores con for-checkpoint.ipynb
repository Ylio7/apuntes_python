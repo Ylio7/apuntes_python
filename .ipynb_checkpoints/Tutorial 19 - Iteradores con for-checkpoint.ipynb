{
 "cells": [
  {
   "cell_type": "code",
   "execution_count": 8,
   "id": "a327f70a",
   "metadata": {},
   "outputs": [
    {
     "name": "stdout",
     "output_type": "stream",
     "text": [
      "1 Hola\n",
      "2 Hola\n",
      "3 Hola\n",
      "4 Hola\n",
      "5 Hola\n"
     ]
    }
   ],
   "source": [
    "#Imprimir todos los elementos de una lista\n",
    "\n",
    "a = [1,2,3,4,5]\n",
    "for i in a:\n",
    "    print(i,end=\"\")\n",
    "    print(\" Hola\")"
   ]
  },
  {
   "cell_type": "code",
   "execution_count": 9,
   "id": "5466b98a",
   "metadata": {},
   "outputs": [
    {
     "name": "stdout",
     "output_type": "stream",
     "text": [
      "6\n",
      "8\n",
      "10\n"
     ]
    }
   ],
   "source": [
    "#Usar un rango en un loop for\n",
    "for i in range(6,11,2):\n",
    "    print(i)"
   ]
  },
  {
   "cell_type": "code",
   "execution_count": 4,
   "id": "174c127e",
   "metadata": {},
   "outputs": [
    {
     "name": "stdout",
     "output_type": "stream",
     "text": [
      "11\n",
      "12\n",
      "13\n",
      "14\n",
      "15\n",
      "Impresión completada!\n"
     ]
    }
   ],
   "source": [
    "#Usar for y else para imprimir los valores de una tupla\n",
    "b = (11,12,13,14,15)\n",
    "for i in b:\n",
    "    print(i)\n",
    "else:\n",
    "    print(\"Impresión completada!\")\n"
   ]
  },
  {
   "cell_type": "code",
   "execution_count": null,
   "id": "198a62a6",
   "metadata": {},
   "outputs": [],
   "source": []
  }
 ],
 "metadata": {
  "kernelspec": {
   "display_name": "Python 3",
   "language": "python",
   "name": "python3"
  },
  "language_info": {
   "codemirror_mode": {
    "name": "ipython",
    "version": 3
   },
   "file_extension": ".py",
   "mimetype": "text/x-python",
   "name": "python",
   "nbconvert_exporter": "python",
   "pygments_lexer": "ipython3",
   "version": "3.8.8"
  }
 },
 "nbformat": 4,
 "nbformat_minor": 5
}
