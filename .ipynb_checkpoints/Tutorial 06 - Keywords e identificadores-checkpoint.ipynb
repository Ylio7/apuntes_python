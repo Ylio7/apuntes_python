{
 "cells": [
  {
   "cell_type": "code",
   "execution_count": 1,
   "id": "85e7a01f",
   "metadata": {},
   "outputs": [
    {
     "name": "stdout",
     "output_type": "stream",
     "text": [
      "True\n",
      "False\n"
     ]
    }
   ],
   "source": [
    "# True False\n",
    "\n",
    "print (5 == 5)\n",
    "print (5 > 5)"
   ]
  },
  {
   "cell_type": "code",
   "execution_count": 2,
   "id": "595bb127",
   "metadata": {},
   "outputs": [
    {
     "name": "stdout",
     "output_type": "stream",
     "text": [
      "False\n",
      "False\n",
      "False\n",
      "True\n"
     ]
    }
   ],
   "source": [
    "# None\n",
    "\n",
    "print(None == 0)\n",
    "print(None == False)\n",
    "print(None == [])\n",
    "print(None == None)"
   ]
  },
  {
   "cell_type": "code",
   "execution_count": 4,
   "id": "99038e2c",
   "metadata": {},
   "outputs": [
    {
     "name": "stdout",
     "output_type": "stream",
     "text": [
      "None\n",
      "3\n"
     ]
    }
   ],
   "source": [
    "# Cual es el uso de None?\n",
    "\n",
    "def a_void_function():\n",
    "    a = 1\n",
    "    b = 2\n",
    "    c = a + b\n",
    "\n",
    "x = a_void_function()\n",
    "print(x)\n",
    "\n",
    "# Este codigo devuelve \"None\" xq faltó cerrar la funcion a_void_function con \"return(c)\". Por eso, la funcion devuelve \"None\"\n",
    "\n",
    "def a_void_function():\n",
    "    a = 1\n",
    "    b = 2\n",
    "    c = a + b\n",
    "    return(c)\n",
    "\n",
    "x = a_void_function()\n",
    "print(x)"
   ]
  },
  {
   "cell_type": "code",
   "execution_count": 5,
   "id": "2bab1f79",
   "metadata": {},
   "outputs": [
    {
     "name": "stdout",
     "output_type": "stream",
     "text": [
      "False\n",
      "True\n",
      "True\n"
     ]
    }
   ],
   "source": [
    "# and, or, not\n",
    "\n",
    "print(True and False)\n",
    "print(True or False)\n",
    "print(not False)"
   ]
  },
  {
   "cell_type": "code",
   "execution_count": 6,
   "id": "2b7ae2c0",
   "metadata": {},
   "outputs": [
    {
     "name": "stdout",
     "output_type": "stream",
     "text": [
      "-1.0\n"
     ]
    }
   ],
   "source": [
    "# as\n",
    "import math as myMath\n",
    "print(myMath.cos(myMath.pi))"
   ]
  },
  {
   "cell_type": "code",
   "execution_count": 8,
   "id": "c7ef17f1",
   "metadata": {},
   "outputs": [],
   "source": [
    "# assert (afirmar)\n",
    "\n",
    "assert 5 > 4\n",
    "assert 5 == 5"
   ]
  },
  {
   "cell_type": "code",
   "execution_count": 9,
   "id": "80005398",
   "metadata": {},
   "outputs": [
    {
     "name": "stdout",
     "output_type": "stream",
     "text": [
      "1\n",
      "2\n",
      "3\n",
      "4\n"
     ]
    }
   ],
   "source": [
    "# break\n",
    "\n",
    "for i in range(1,11):\n",
    "    if i == 5:\n",
    "        break\n",
    "    print(i)   "
   ]
  },
  {
   "cell_type": "code",
   "execution_count": 11,
   "id": "b2955322",
   "metadata": {},
   "outputs": [
    {
     "name": "stdout",
     "output_type": "stream",
     "text": [
      "1\n",
      "2\n",
      "3\n",
      "4\n",
      "6\n",
      "7\n"
     ]
    }
   ],
   "source": [
    "# continue\n",
    "\n",
    "for i in range(1,8):\n",
    "    if i == 5:\n",
    "        continue\n",
    "    print(i)  "
   ]
  },
  {
   "cell_type": "code",
   "execution_count": 12,
   "id": "eaf3985a",
   "metadata": {},
   "outputs": [
    {
     "name": "stdout",
     "output_type": "stream",
     "text": [
      "function1() executing...\n",
      "function2() executing...\n"
     ]
    }
   ],
   "source": [
    "# class\n",
    "\n",
    "class ExampleClass:\n",
    "    def function1(parameters):\n",
    "        print(\"function1() executing...\")\n",
    "    def function2(parameters):\n",
    "        print(\"function2() executing...\")\n",
    "ob1 = ExampleClass()\n",
    "ob1.function1()\n",
    "ob1.function2()"
   ]
  },
  {
   "cell_type": "code",
   "execution_count": 14,
   "id": "b776a001",
   "metadata": {},
   "outputs": [],
   "source": [
    "# def (define funciones)\n",
    "\n",
    "def function_nam(parameters):\n",
    "        pass #pass se usa para pasar. La idea es dejarlo para agregar codigo ahi en un futuro\n",
    "function_nam(10)"
   ]
  },
  {
   "cell_type": "code",
   "execution_count": 15,
   "id": "2b5d1139",
   "metadata": {},
   "outputs": [
    {
     "name": "stdout",
     "output_type": "stream",
     "text": [
      "10\n"
     ]
    },
    {
     "ename": "NameError",
     "evalue": "name 'a' is not defined",
     "output_type": "error",
     "traceback": [
      "\u001b[1;31m---------------------------------------------------------------------------\u001b[0m",
      "\u001b[1;31mNameError\u001b[0m                                 Traceback (most recent call last)",
      "\u001b[1;32m<ipython-input-15-3389b4e4a3f9>\u001b[0m in \u001b[0;36m<module>\u001b[1;34m\u001b[0m\n\u001b[0;32m      3\u001b[0m \u001b[0mprint\u001b[0m\u001b[1;33m(\u001b[0m\u001b[0ma\u001b[0m\u001b[1;33m)\u001b[0m\u001b[1;33m\u001b[0m\u001b[1;33m\u001b[0m\u001b[0m\n\u001b[0;32m      4\u001b[0m \u001b[1;32mdel\u001b[0m \u001b[0ma\u001b[0m\u001b[1;33m\u001b[0m\u001b[1;33m\u001b[0m\u001b[0m\n\u001b[1;32m----> 5\u001b[1;33m \u001b[0mprint\u001b[0m\u001b[1;33m(\u001b[0m\u001b[0ma\u001b[0m\u001b[1;33m)\u001b[0m\u001b[1;33m\u001b[0m\u001b[1;33m\u001b[0m\u001b[0m\n\u001b[0m",
      "\u001b[1;31mNameError\u001b[0m: name 'a' is not defined"
     ]
    }
   ],
   "source": [
    "#del (delete)\n",
    "a = 10\n",
    "print(a)\n",
    "del a\n",
    "print(a)"
   ]
  },
  {
   "cell_type": "code",
   "execution_count": 19,
   "id": "8d86ed1b",
   "metadata": {},
   "outputs": [
    {
     "name": "stdout",
     "output_type": "stream",
     "text": [
      "otro numero\n"
     ]
    }
   ],
   "source": [
    "# if, elif, else\n",
    "num = 3\n",
    "\n",
    "if num ==1:\n",
    "    print(\"Uno\")\n",
    "elif num == 2:\n",
    "    print(\"dos\")\n",
    "else:\n",
    "    print(\"otro numero\")"
   ]
  },
  {
   "cell_type": "code",
   "execution_count": 23,
   "id": "f1b6b57b",
   "metadata": {},
   "outputs": [
    {
     "name": "stdout",
     "output_type": "stream",
     "text": [
      "Ejecucion exitosa\n"
     ]
    }
   ],
   "source": [
    "# try, raise, catch, finally\n",
    "\n",
    "try:\n",
    "    x = 9\n",
    "    y = 0\n",
    "    #z = x/y\n",
    "    #raise ZeroDivisionError\n",
    "    #raise se usa para generar el error manualmente, como alternativa a hacerlo mediante una division por 0\n",
    "except ZeroDivisionError:\n",
    "    print(\"La division no puede efectuarse\")\n",
    "finally:\n",
    "    print(\"Ejecucion exitosa\")"
   ]
  },
  {
   "cell_type": "code",
   "execution_count": 25,
   "id": "2241935b",
   "metadata": {},
   "outputs": [
    {
     "name": "stdout",
     "output_type": "stream",
     "text": [
      "1\n",
      "3\n",
      "5\n",
      "7\n",
      "9\n"
     ]
    }
   ],
   "source": [
    "# for\n",
    "for i in range(1,10,2): #el ultimo parametro es el incremento\n",
    "    print(i)"
   ]
  },
  {
   "cell_type": "code",
   "execution_count": 26,
   "id": "97852dc8",
   "metadata": {},
   "outputs": [
    {
     "name": "stdout",
     "output_type": "stream",
     "text": [
      "-0.8390715290764524\n"
     ]
    }
   ],
   "source": [
    "# from, import\n",
    "\n",
    "import math\n",
    "from math import cos\n",
    "print(cos(10))  #asi me ahorro de poner math.cos, ya que lo tengo importado al comienzo\n"
   ]
  },
  {
   "cell_type": "code",
   "execution_count": 28,
   "id": "7ec5a963",
   "metadata": {},
   "outputs": [
    {
     "name": "stdout",
     "output_type": "stream",
     "text": [
      "10\n",
      "5\n",
      "5\n"
     ]
    }
   ],
   "source": [
    "# global (variables globales)\n",
    "\n",
    "globvar = 10\n",
    "def read1():\n",
    "    print(globvar)\n",
    "def write1():\n",
    "    global globvar\n",
    "    globvar = 5\n",
    "def write2():\n",
    "    globvar = 15\n",
    "\n",
    "read1()\n",
    "write1()\n",
    "read1()\n",
    "write2()\n",
    "read1()\n",
    "\n",
    "#como vemos, la ultima def no contiene la definicion \"global\", por lo que su propia variable globvar esta siendo\n",
    "#considerada una variable local (no global). Es por esto que no se imprime el 15"
   ]
  },
  {
   "cell_type": "code",
   "execution_count": 31,
   "id": "eb405c34",
   "metadata": {},
   "outputs": [
    {
     "name": "stdout",
     "output_type": "stream",
     "text": [
      "True\n",
      "False\n",
      "False\n",
      "True\n"
     ]
    }
   ],
   "source": [
    "#in \n",
    "\n",
    "a = [1,2,3,4]\n",
    "print(4 in a)\n",
    "print(43 in a)\n",
    "\n",
    "print(4 not in a)\n",
    "print(43 not in a)"
   ]
  },
  {
   "cell_type": "code",
   "execution_count": 32,
   "id": "3137ac64",
   "metadata": {},
   "outputs": [
    {
     "name": "stdout",
     "output_type": "stream",
     "text": [
      "True\n",
      "False\n",
      "False\n",
      "True\n"
     ]
    }
   ],
   "source": [
    "#is\n",
    "print(True is True)\n",
    "print(True is False)\n",
    "\n",
    "print(True is not True)\n",
    "print(True is not False)"
   ]
  },
  {
   "cell_type": "code",
   "execution_count": 34,
   "id": "ad1ffdff",
   "metadata": {},
   "outputs": [
    {
     "name": "stdout",
     "output_type": "stream",
     "text": [
      "1 2\n",
      "2 4\n",
      "3 6\n",
      "4 8\n",
      "5 10\n"
     ]
    }
   ],
   "source": [
    "# lambda (se usa para definir funciones anonimas)\n",
    "\n",
    "a = lambda x: x*2\n",
    "for i in range(1,6):\n",
    "    print(i,a(i))"
   ]
  },
  {
   "cell_type": "code",
   "execution_count": 37,
   "id": "4f7ff4c3",
   "metadata": {},
   "outputs": [
    {
     "name": "stdout",
     "output_type": "stream",
     "text": [
      "Inner function:  10\n",
      "Outer function:  10\n"
     ]
    }
   ],
   "source": [
    "# nonLocal\n",
    "\n",
    "def outer_function():\n",
    "    a = 5\n",
    "    def inner_function():\n",
    "        nonlocal a     #probar comentando esta linea para ver como se afecta \"a\"\n",
    "        a = 10\n",
    "        print(\"Inner function: \",a)\n",
    "    \n",
    "    inner_function()\n",
    "    print(\"Outer function: \",a)\n",
    "outer_function()\n",
    "            "
   ]
  },
  {
   "cell_type": "code",
   "execution_count": null,
   "id": "4f2eac07",
   "metadata": {},
   "outputs": [],
   "source": [
    "#pass\n",
    "\n",
    "def function(args):\n",
    "    pass\n",
    "#pass es un place-holder para agregar alli funciones en el futuro"
   ]
  },
  {
   "cell_type": "code",
   "execution_count": 39,
   "id": "2b1f5164",
   "metadata": {},
   "outputs": [
    {
     "name": "stdout",
     "output_type": "stream",
     "text": [
      "10\n"
     ]
    }
   ],
   "source": [
    "#return\n",
    "\n",
    "def func_return():\n",
    "    a = 10\n",
    "    return a\n",
    "print(func_return())"
   ]
  },
  {
   "cell_type": "code",
   "execution_count": 40,
   "id": "175e0280",
   "metadata": {},
   "outputs": [
    {
     "name": "stdout",
     "output_type": "stream",
     "text": [
      "5\n",
      "4\n",
      "3\n",
      "2\n",
      "1\n"
     ]
    }
   ],
   "source": [
    "#while\n",
    "i = 5\n",
    "while(i>0):\n",
    "    print(i)\n",
    "    i -= 1"
   ]
  },
  {
   "cell_type": "code",
   "execution_count": 41,
   "id": "728dda6b",
   "metadata": {},
   "outputs": [],
   "source": [
    "#with (para trabajar con archivos)\n",
    "with open ('example.txt', 'w') as my_file: #La 'w' es de write\n",
    "    my_file.write('Hello world!')"
   ]
  },
  {
   "cell_type": "code",
   "execution_count": 42,
   "id": "8c203b39",
   "metadata": {},
   "outputs": [
    {
     "name": "stdout",
     "output_type": "stream",
     "text": [
      "0\n",
      "1\n",
      "4\n",
      "9\n",
      "16\n",
      "25\n"
     ]
    }
   ],
   "source": [
    "# yield\n",
    "# almacena valores durante una iteracion\n",
    "\n",
    "def generator():\n",
    "    for i in range(6):\n",
    "        yield i*i\n",
    "\n",
    "g = generator()\n",
    "for i in g:\n",
    "    print(i)\n"
   ]
  },
  {
   "cell_type": "code",
   "execution_count": null,
   "id": "770d5d6e",
   "metadata": {},
   "outputs": [],
   "source": []
  }
 ],
 "metadata": {
  "kernelspec": {
   "display_name": "Python 3",
   "language": "python",
   "name": "python3"
  },
  "language_info": {
   "codemirror_mode": {
    "name": "ipython",
    "version": 3
   },
   "file_extension": ".py",
   "mimetype": "text/x-python",
   "name": "python",
   "nbconvert_exporter": "python",
   "pygments_lexer": "ipython3",
   "version": "3.8.8"
  }
 },
 "nbformat": 4,
 "nbformat_minor": 5
}
