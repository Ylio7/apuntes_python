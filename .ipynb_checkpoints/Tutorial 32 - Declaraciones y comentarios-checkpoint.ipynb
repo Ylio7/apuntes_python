{
 "cells": [
  {
   "cell_type": "code",
   "execution_count": 1,
   "id": "904cb649",
   "metadata": {},
   "outputs": [
    {
     "data": {
      "text/plain": [
       "'\\nComentarios multilinea\\ntambien pueden escribirse asi\\n'"
      ]
     },
     "execution_count": 1,
     "metadata": {},
     "output_type": "execute_result"
    }
   ],
   "source": [
    "#Este es un comentario\n",
    "\n",
    "#Este es un comentario multilinea\n",
    "#que puede escribirse\n",
    "#de este modo\n",
    "\n",
    "\"\"\"\n",
    "Comentarios multilinea\n",
    "tambien pueden escribirse asi\n",
    "\"\"\""
   ]
  },
  {
   "cell_type": "code",
   "execution_count": 2,
   "id": "71a4f1ea",
   "metadata": {},
   "outputs": [],
   "source": [
    "#Declaraciones - Asignas declaraciones\n",
    "a = 1"
   ]
  },
  {
   "cell_type": "code",
   "execution_count": 3,
   "id": "b76cda90",
   "metadata": {},
   "outputs": [
    {
     "name": "stdout",
     "output_type": "stream",
     "text": [
      "21\n",
      "21\n"
     ]
    }
   ],
   "source": [
    "#Declaracion multilinea\n",
    "#Linea de continuacion explicia - '\\'\n",
    "\n",
    "b = 1 + 2 + 3 + \\\n",
    "    4 + 5 + 6\n",
    "print(b)\n",
    "\n",
    "#Linea de continuacion implicita dentro de ()\n",
    "\n",
    "c = (1 + 2 + 3 +\n",
    "    4 + 5 + 6)\n",
    "print(c)"
   ]
  },
  {
   "cell_type": "code",
   "execution_count": 4,
   "id": "4d48d26f",
   "metadata": {},
   "outputs": [
    {
     "name": "stdout",
     "output_type": "stream",
     "text": [
      "3\n"
     ]
    }
   ],
   "source": [
    "#Declaraciones multiples en una linea usando ';'\n",
    "d = 1; e = 3; f = 0\n",
    "print(e)"
   ]
  },
  {
   "cell_type": "code",
   "execution_count": 5,
   "id": "1a1031c7",
   "metadata": {},
   "outputs": [
    {
     "name": "stdout",
     "output_type": "stream",
     "text": [
      "1\n",
      "2\n",
      "3\n",
      "4\n",
      "5\n",
      "Fin del programa\n"
     ]
    }
   ],
   "source": [
    "#Los bloques de codigo (cuerpos de una funcion, bucles, etc...) comienzan con sangria\n",
    "#y terminan con la primer linea sin sangria que aparezca\n",
    "\n",
    "for i in range(1,10):\n",
    "    print(i)\n",
    "    if i == 5:\n",
    "        break\n",
    "print(\"Fin del programa\")"
   ]
  },
  {
   "cell_type": "code",
   "execution_count": null,
   "id": "ba7868ec",
   "metadata": {},
   "outputs": [],
   "source": []
  }
 ],
 "metadata": {
  "kernelspec": {
   "display_name": "Python 3",
   "language": "python",
   "name": "python3"
  },
  "language_info": {
   "codemirror_mode": {
    "name": "ipython",
    "version": 3
   },
   "file_extension": ".py",
   "mimetype": "text/x-python",
   "name": "python",
   "nbconvert_exporter": "python",
   "pygments_lexer": "ipython3",
   "version": "3.8.8"
  }
 },
 "nbformat": 4,
 "nbformat_minor": 5
}
