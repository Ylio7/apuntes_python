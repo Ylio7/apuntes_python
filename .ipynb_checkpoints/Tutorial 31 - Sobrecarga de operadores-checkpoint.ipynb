{
 "cells": [
  {
   "cell_type": "code",
   "execution_count": 22,
   "id": "6cacfa8b",
   "metadata": {},
   "outputs": [],
   "source": [
    "#Sobrecarga de operador\n",
    "class miPunto:\n",
    "    def __init__(self, x=0, y=0):  #Recordar: x=0 y y=0 son los valores por defectos de esos parametros\n",
    "        self.x = x\n",
    "        self.y = y\n",
    "    \n",
    "    def __str__(self):\n",
    "        return \"({0},{1})\".format(self.x, self.y)  #Este 0 y 1 se van a sobreescribir con las x e y que ingresamos\n",
    "    \n",
    "    #Sobrecargar el operador +\n",
    "    #Adicionamos un valor a x e y\n",
    "    def __add__(self, otro):\n",
    "        x = self.x + otro.x\n",
    "        y = self.y + otro.y\n",
    "        return miPunto(x,y)\n",
    "    \n",
    "    #Sobrecargar el operador <\n",
    "    def __lt__(self, otro):      #lt = less than\n",
    "        self_mag = (self.x ** 2) + (self.y **2)\n",
    "        otro_mag = (otro.x ** 2) + (otro.y **2)\n",
    "        return self_mag < otro_mag        #devuelve un booleano"
   ]
  },
  {
   "cell_type": "code",
   "execution_count": 23,
   "id": "18592d7b",
   "metadata": {},
   "outputs": [
    {
     "name": "stdout",
     "output_type": "stream",
     "text": [
      "(1,2)\n",
      "(4,5)\n",
      "\n",
      "True\n",
      "(5,7)\n",
      "\n",
      "True\n",
      "(5,7)\n"
     ]
    }
   ],
   "source": [
    "p1 = miPunto(1,2)\n",
    "p2 = miPunto(4,5)\n",
    "\n",
    "print(p1)\n",
    "print(p2)\n",
    "print()\n",
    "print(p1<p2)\n",
    "print(p1+p2)\n",
    "print()\n",
    "print(p1.__lt__(p2))\n",
    "print(p1.__add__(p2))"
   ]
  },
  {
   "cell_type": "code",
   "execution_count": null,
   "id": "7c082e17",
   "metadata": {},
   "outputs": [],
   "source": []
  }
 ],
 "metadata": {
  "kernelspec": {
   "display_name": "Python 3",
   "language": "python",
   "name": "python3"
  },
  "language_info": {
   "codemirror_mode": {
    "name": "ipython",
    "version": 3
   },
   "file_extension": ".py",
   "mimetype": "text/x-python",
   "name": "python",
   "nbconvert_exporter": "python",
   "pygments_lexer": "ipython3",
   "version": "3.8.8"
  }
 },
 "nbformat": 4,
 "nbformat_minor": 5
}
