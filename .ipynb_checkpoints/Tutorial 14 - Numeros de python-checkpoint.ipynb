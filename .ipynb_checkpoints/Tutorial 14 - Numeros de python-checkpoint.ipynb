{
 "cells": [
  {
   "cell_type": "code",
   "execution_count": 1,
   "id": "141a66e1",
   "metadata": {},
   "outputs": [
    {
     "name": "stdout",
     "output_type": "stream",
     "text": [
      "<class 'int'>\n",
      "True\n",
      "False\n",
      "False\n"
     ]
    }
   ],
   "source": [
    "#Enteros\n",
    "valor1 = 100\n",
    "print(type(valor1))\n",
    "print(isinstance(valor1,int))\n",
    "print(isinstance(valor1,float))\n",
    "print(isinstance(valor1,complex))"
   ]
  },
  {
   "cell_type": "code",
   "execution_count": 2,
   "id": "cc47f07f",
   "metadata": {},
   "outputs": [
    {
     "name": "stdout",
     "output_type": "stream",
     "text": [
      "<class 'float'>\n",
      "False\n",
      "True\n",
      "False\n"
     ]
    }
   ],
   "source": [
    "#Flotantes\n",
    "valor2 = 100.24\n",
    "print(type(valor2))\n",
    "print(isinstance(valor2,int))\n",
    "print(isinstance(valor2,float))\n",
    "print(isinstance(valor2,complex))"
   ]
  },
  {
   "cell_type": "code",
   "execution_count": 4,
   "id": "c161158a",
   "metadata": {},
   "outputs": [
    {
     "name": "stdout",
     "output_type": "stream",
     "text": [
      "<class 'complex'>\n",
      "False\n",
      "False\n",
      "True\n"
     ]
    }
   ],
   "source": [
    "#Complejos\n",
    "valor3 = 50 + 5j\n",
    "print(type(valor3))\n",
    "print(isinstance(valor3,int))\n",
    "print(isinstance(valor3,float))\n",
    "print(isinstance(valor3,complex))"
   ]
  },
  {
   "cell_type": "code",
   "execution_count": 5,
   "id": "f24c04bf",
   "metadata": {},
   "outputs": [
    {
     "name": "stdout",
     "output_type": "stream",
     "text": [
      "13\n",
      "171\n",
      "19\n"
     ]
    }
   ],
   "source": [
    "#Binarios, hexadecimales y octales\n",
    "#Agregamos '0b' o '0x' o '0o' (tambien valen con letras capitales B X O)\n",
    "\n",
    "print(0b1101)\n",
    "print(0xab)\n",
    "print(0o23)"
   ]
  },
  {
   "cell_type": "code",
   "execution_count": 6,
   "id": "41314bda",
   "metadata": {},
   "outputs": [
    {
     "name": "stdout",
     "output_type": "stream",
     "text": [
      "43.4\n"
     ]
    }
   ],
   "source": [
    "print(10 + 33.4)"
   ]
  },
  {
   "cell_type": "code",
   "execution_count": 7,
   "id": "cee3f3e3",
   "metadata": {},
   "outputs": [
    {
     "name": "stdout",
     "output_type": "stream",
     "text": [
      "10\n",
      "-20\n",
      "10.0\n"
     ]
    }
   ],
   "source": [
    "#Conversiones\n",
    "print(int(10.5))\n",
    "print(int(-20.99))\n",
    "print(float(10))"
   ]
  },
  {
   "cell_type": "code",
   "execution_count": 13,
   "id": "607dc0c1",
   "metadata": {},
   "outputs": [
    {
     "name": "stdout",
     "output_type": "stream",
     "text": [
      "0.30000000000000004\n",
      "3.0\n",
      "0.3\n",
      "3.00\n"
     ]
    }
   ],
   "source": [
    "#Decimal python\n",
    "data1 = 0.1 + 0.2\n",
    "print(data1)\n",
    "data1 = 1.20 * 2.50\n",
    "print(data1)\n",
    "\n",
    "from decimal import Decimal as D\n",
    "print(D('0.1') + D('0.2'))\n",
    "print(D('1.2') * D('2.5'))"
   ]
  },
  {
   "cell_type": "code",
   "execution_count": 15,
   "id": "374ae37b",
   "metadata": {},
   "outputs": [
    {
     "name": "stdout",
     "output_type": "stream",
     "text": [
      "3/2\n",
      "5\n",
      "1/5\n"
     ]
    }
   ],
   "source": [
    "#Fracciones python\n",
    "from fractions import Fraction as F\n",
    "print(F(1.5))\n",
    "print(F(5))\n",
    "print(F(1,5))"
   ]
  },
  {
   "cell_type": "code",
   "execution_count": 17,
   "id": "365c4e86",
   "metadata": {},
   "outputs": [
    {
     "name": "stdout",
     "output_type": "stream",
     "text": [
      "3.141592653589793\n",
      "-0.8390715290764524\n",
      "2.302585092994046\n",
      "1.0\n",
      "22026.465794806718\n",
      "3628800\n",
      "11013.232874703393\n",
      "12.34\n"
     ]
    }
   ],
   "source": [
    "#Modulo math de python\n",
    "import math\n",
    "print(math.pi)\n",
    "print(math.cos(10))\n",
    "print(math.log(10))\n",
    "print(math.log10(10))\n",
    "print(math.exp(10))\n",
    "print(math.factorial(10))\n",
    "print(math.sinh(10))\n",
    "\n",
    "print(abs(-12.34))"
   ]
  },
  {
   "cell_type": "code",
   "execution_count": 21,
   "id": "cc2cfe09",
   "metadata": {},
   "outputs": [
    {
     "name": "stdout",
     "output_type": "stream",
     "text": [
      "Random number ->  10\n",
      "Random number ->  13\n",
      "Random number ->  7\n",
      "Random number ->  11\n",
      "Dia random ->  Mie\n",
      "['Dom', 'Lun', 'Mar', 'Mie', 'Jue', 'Vie', 'Sab']\n",
      "['Sab', 'Mie', 'Vie', 'Jue', 'Mar', 'Lun', 'Dom']\n",
      "0.2772219276649489\n"
     ]
    }
   ],
   "source": [
    "#Modulo random de python\n",
    "import random\n",
    "print('Random number -> ', random.randrange(5,15))\n",
    "print('Random number -> ', random.randrange(5,15))\n",
    "print('Random number -> ', random.randrange(5,15))\n",
    "print('Random number -> ', random.randrange(5,15))\n",
    "\n",
    "dia = ['Dom', 'Lun', 'Mar', 'Mie', 'Jue', 'Vie', 'Sab']\n",
    "print('Dia random -> ', random.choice(dia))\n",
    "\n",
    "print(dia)\n",
    "random.shuffle(dia)\n",
    "print(dia)\n",
    "\n",
    "#Imprimir un elemnto random\n",
    "print(random.random())"
   ]
  },
  {
   "cell_type": "code",
   "execution_count": null,
   "id": "aaf07c82",
   "metadata": {},
   "outputs": [],
   "source": []
  }
 ],
 "metadata": {
  "kernelspec": {
   "display_name": "Python 3",
   "language": "python",
   "name": "python3"
  },
  "language_info": {
   "codemirror_mode": {
    "name": "ipython",
    "version": 3
   },
   "file_extension": ".py",
   "mimetype": "text/x-python",
   "name": "python",
   "nbconvert_exporter": "python",
   "pygments_lexer": "ipython3",
   "version": "3.8.8"
  }
 },
 "nbformat": 4,
 "nbformat_minor": 5
}
