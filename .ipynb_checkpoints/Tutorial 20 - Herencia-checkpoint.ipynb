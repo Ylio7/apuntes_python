{
 "cells": [
  {
   "cell_type": "code",
   "execution_count": 4,
   "id": "65f0a42d",
   "metadata": {},
   "outputs": [],
   "source": [
    "# Creamos una clase y objeto\n",
    "\n",
    "class miAve:\n",
    "    \n",
    "    def __init__(self):\n",
    "        print(\"El constructor de la clase 'miAve' se está ejecutando...\")\n",
    "        \n",
    "    def queTipo(self):\n",
    "        print(\"Soy un Ave...\")\n",
    "        \n",
    "    def puedeNadar(self):\n",
    "        print(\"Puedo nadar...\")"
   ]
  },
  {
   "cell_type": "code",
   "execution_count": 5,
   "id": "30d5d4b9",
   "metadata": {},
   "outputs": [],
   "source": [
    "# Clase \"miPato\" hereda los atributos de la clase miPajaro\n",
    "\n",
    "class miPato(miAve):\n",
    "    \n",
    "    def __init__(self):\n",
    "        super().__init__()   #llama a la funcion super()\n",
    "        print(\"El constructor de la clase 'miPato' se està ejecutando...\")\n",
    "    \n",
    "    def quienEs(self):\n",
    "        print(\"Soy un pato...\")\n",
    "    \n",
    "    def puedeCorrer(self):\n",
    "        print(\"Puedo correr rápido...\")"
   ]
  },
  {
   "cell_type": "code",
   "execution_count": 6,
   "id": "a31caa8e",
   "metadata": {
    "scrolled": true
   },
   "outputs": [
    {
     "name": "stdout",
     "output_type": "stream",
     "text": [
      "El constructor de la clase 'miAve' se está ejecutando...\n",
      "El constructor de la clase 'miPato' se està ejecutando...\n",
      "Soy un Ave...\n",
      "Soy un pato...\n",
      "Puedo nadar...\n",
      "Puedo correr rápido...\n"
     ]
    }
   ],
   "source": [
    "#Acceder a los atributos del hijo (quien hereda)\n",
    "\n",
    "pato1 = miPato()\n",
    "pato1.queTipo()      #definido en la clase miAve\n",
    "pato1.quienEs()      #definido en la clase miPato\n",
    "pato1.puedeNadar()   #definido en la clase miAve\n",
    "pato1.puedeCorrer()  #definido en la clase miAve"
   ]
  },
  {
   "cell_type": "code",
   "execution_count": null,
   "id": "413f7fa5",
   "metadata": {},
   "outputs": [],
   "source": [
    "#Polimorfismo"
   ]
  },
  {
   "cell_type": "code",
   "execution_count": 7,
   "id": "7928a02c",
   "metadata": {},
   "outputs": [],
   "source": [
    "class miPerico:\n",
    "    \n",
    "    def puedeVolar(self):\n",
    "        print(\"El perico puede volar...\")\n",
    "    \n",
    "    def puedeNadar(self):\n",
    "        print(\"El perico NO puede nadar\")"
   ]
  },
  {
   "cell_type": "code",
   "execution_count": 8,
   "id": "c04a033c",
   "metadata": {},
   "outputs": [],
   "source": [
    "class miPato:\n",
    "    \n",
    "    def puedeVolar(self):\n",
    "        print(\"El pato NO puede volar...\")\n",
    "    \n",
    "    def puedeNadar(self):\n",
    "        print(\"El pato puede nadar\")"
   ]
  },
  {
   "cell_type": "code",
   "execution_count": 11,
   "id": "16f44b14",
   "metadata": {},
   "outputs": [],
   "source": [
    "#Interfaz comun\n",
    "def ave_voladora_test(ave):\n",
    "    ave.puedeVolar()\n",
    "    ave.puedeNadar()"
   ]
  },
  {
   "cell_type": "code",
   "execution_count": 12,
   "id": "21fc9149",
   "metadata": {},
   "outputs": [
    {
     "name": "stdout",
     "output_type": "stream",
     "text": [
      "El perico puede volar...\n",
      "El perico NO puede nadar\n",
      "\n",
      "El pato NO puede volar...\n",
      "El pato puede nadar\n"
     ]
    }
   ],
   "source": [
    "#Instanciar objetos\n",
    "\n",
    "ave_perico = miPerico()\n",
    "ave_pato = miPato()\n",
    "\n",
    "ave_voladora_test(ave_perico)\n",
    "print()\n",
    "ave_voladora_test(ave_pato)"
   ]
  },
  {
   "cell_type": "code",
   "execution_count": null,
   "id": "74cc1d8b",
   "metadata": {},
   "outputs": [],
   "source": []
  }
 ],
 "metadata": {
  "kernelspec": {
   "display_name": "Python 3",
   "language": "python",
   "name": "python3"
  },
  "language_info": {
   "codemirror_mode": {
    "name": "ipython",
    "version": 3
   },
   "file_extension": ".py",
   "mimetype": "text/x-python",
   "name": "python",
   "nbconvert_exporter": "python",
   "pygments_lexer": "ipython3",
   "version": "3.8.8"
  }
 },
 "nbformat": 4,
 "nbformat_minor": 5
}
