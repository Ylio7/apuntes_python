{
 "cells": [
  {
   "cell_type": "code",
   "execution_count": 2,
   "id": "8b3b7a1b",
   "metadata": {},
   "outputs": [
    {
     "name": "stdout",
     "output_type": "stream",
     "text": [
      "[['Raul', 80, 75, 85, 90, 95], ['Juan', 75, 80, 75, 85, 100], ['David', 80, 80, 80, 90, 95]]\n",
      "\n",
      "[['Raul', 80, 75, 85, 90, 95], ['Juan', 75, 80, 75], ['David', 80, 80, 80, 90, 95]]\n"
     ]
    }
   ],
   "source": [
    "#a es una matriz 2D con enteros\n",
    "a = [['Raul',80,75,85,90,95],\n",
    "    ['Juan',75,80,75,85,100],\n",
    "    ['David',80,80,80,90,95]]\n",
    "\n",
    "#b es una lista anidada pero no una matriz, ya que no tiene la misma cantidad de elementos en cada lista\n",
    "b = [['Raul',80,75,85,90,95],\n",
    "    ['Juan',75,80,75],\n",
    "    ['David',80,80,80,90,95]]\n",
    "\n",
    "print(a)\n",
    "print()\n",
    "print(b)"
   ]
  },
  {
   "cell_type": "code",
   "execution_count": 3,
   "id": "e39001de",
   "metadata": {},
   "outputs": [
    {
     "name": "stdout",
     "output_type": "stream",
     "text": [
      "[0, 0, 0]\n",
      "[[0, 0, 0, 0], [0, 0, 0, 0], [0, 0, 0, 0]]\n"
     ]
    }
   ],
   "source": [
    "#Crear una matriz dinamica mediante un loop\n",
    "n = 3\n",
    "m = 4\n",
    "a = [0] * n\n",
    "print(a)\n",
    "for i in range(n):\n",
    "    a[i] = [0] * m\n",
    "print(a)\n"
   ]
  },
  {
   "cell_type": "code",
   "execution_count": 4,
   "id": "cf57dc83",
   "metadata": {},
   "outputs": [
    {
     "name": "stdout",
     "output_type": "stream",
     "text": [
      "[[0, 0, 0, 0], [0, 0, 0, 0], [0, 0, 0, 0]]\n",
      "[0, 0, 0, 0]\n",
      "0\n",
      "0\n"
     ]
    }
   ],
   "source": [
    "#Acceder a elementos de una matriz\n",
    "print(a)\n",
    "print(a[0])\n",
    "print(a[0][1])\n",
    "print(a[1][2])"
   ]
  },
  {
   "cell_type": "code",
   "execution_count": 5,
   "id": "50b4671d",
   "metadata": {},
   "outputs": [
    {
     "name": "stdout",
     "output_type": "stream",
     "text": [
      "[[0, 0, 0, 0], [0, 0, 0, 0], [0, 0, 0, 0]]\n",
      "[0, 0, 0, 0]\n",
      "0\n",
      "0\n"
     ]
    }
   ],
   "source": [
    "#Indices negativos\n",
    "print(a)\n",
    "print(a[-1])\n",
    "print(a[-1][-2])\n",
    "print(a[-2][-3])"
   ]
  },
  {
   "cell_type": "code",
   "execution_count": 6,
   "id": "6e4c52e7",
   "metadata": {},
   "outputs": [
    {
     "name": "stdout",
     "output_type": "stream",
     "text": [
      "[[0, 0, 0, 0], [0, 0, 0, 0], [0, 0, 0, 0]]\n",
      "[0, 0, 0, 0]\n",
      "[0, 75, 0, 0]\n",
      "[[0, 75, 0, 0], [0, 0, 0, 0], [0, 0, 0, 0]]\n",
      "[[0, 75, 0, 0], [0, 0, 0, 0], ['Jorge', 82, 79, 88, 97, 99]]\n"
     ]
    }
   ],
   "source": [
    "#Cambiar elementos de una matriz\n",
    "print(a)\n",
    "b=a[0]\n",
    "print(b)\n",
    "\n",
    "b[1]=75\n",
    "print(b)\n",
    "print(a)  #como a a[0] se le asigno la misma dir de memoria que a b, al modificar esta ultima, modifico a\n",
    "\n",
    "a[2]=['Jorge',82,79,88,97,99]\n",
    "print(a)"
   ]
  },
  {
   "cell_type": "code",
   "execution_count": null,
   "id": "f4143a45",
   "metadata": {},
   "outputs": [],
   "source": []
  }
 ],
 "metadata": {
  "kernelspec": {
   "display_name": "Python 3",
   "language": "python",
   "name": "python3"
  },
  "language_info": {
   "codemirror_mode": {
    "name": "ipython",
    "version": 3
   },
   "file_extension": ".py",
   "mimetype": "text/x-python",
   "name": "python",
   "nbconvert_exporter": "python",
   "pygments_lexer": "ipython3",
   "version": "3.8.8"
  }
 },
 "nbformat": 4,
 "nbformat_minor": 5
}
