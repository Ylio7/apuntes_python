{
 "cells": [
  {
   "cell_type": "code",
   "execution_count": 1,
   "id": "c9e0c895",
   "metadata": {},
   "outputs": [
    {
     "name": "stdout",
     "output_type": "stream",
     "text": [
      "()\n",
      "(1, 2, 3)\n",
      "(101, 'Mercado Libre', 231.32, 'Casa de damian')\n"
     ]
    }
   ],
   "source": [
    "#una tupla es un objeto que bien puede tener datos o diversos objetos\n",
    "#son como listas (arrays) inmutables, es decir, los datos estaran protegidos y no podran cambiarse\n",
    "#permite trabajar con diversos tipos de datos de manera simultanea\n",
    "#se definen usando ()\n",
    "\n",
    "#tuple vacia\n",
    "\n",
    "tuple1 = ()\n",
    "print(tuple1)\n",
    "\n",
    "#con numeros enteros\n",
    "\n",
    "tuple2 = (1, 2, 3)\n",
    "print(tuple2)\n",
    "\n",
    "#con diversos tipos de datos\n",
    "\n",
    "tuple3 = (101, 'Mercado Libre', 231.32, 'Casa de damian')\n",
    "print(tuple3)\n",
    "\n",
    "\n"
   ]
  },
  {
   "cell_type": "code",
   "execution_count": 5,
   "id": "2a78a2a9",
   "metadata": {},
   "outputs": [
    {
     "name": "stdout",
     "output_type": "stream",
     "text": [
      "('points', [1, 4, 6], (5, 2, 3))\n",
      "(101, 'Mercado Libre', 231.32, 'Casa de damian')\n",
      "101\n",
      "Mercado Libre\n",
      "231.32\n",
      "Casa de damian\n",
      "<class 'tuple'>\n"
     ]
    }
   ],
   "source": [
    "#tuple anidado (nested)\n",
    "\n",
    "tuple4 = (\"points\", [1,4,6], (5,2,3))\n",
    "print(tuple4)\n",
    "\n",
    "#los tuple tambien pueden crearse sin (), se llama tuple packing\n",
    "tuple5 = 101, 'Mercado Libre', 231.32, 'Casa de damian'\n",
    "print(tuple5)\n",
    "\n",
    "#tambien se pueden unpack\n",
    "empid,empname,empsal,empcomp = tuple5\n",
    "print(empid)\n",
    "print(empname)\n",
    "print(empsal)\n",
    "print(empcomp)\n",
    "\n",
    "print(type(tuple5))"
   ]
  },
  {
   "cell_type": "code",
   "execution_count": 9,
   "id": "3c3bb282",
   "metadata": {},
   "outputs": [
    {
     "name": "stdout",
     "output_type": "stream",
     "text": [
      "('w', 'e', 'l', 'c', 'o', 'm', 'e')\n",
      "e\n",
      "c\n",
      "m\n",
      "('point', [1, 3, 4], (8, 7, 9))\n",
      "n\n",
      "4\n",
      "9\n"
     ]
    }
   ],
   "source": [
    "#Acceder a elementos de un taple\n",
    "\n",
    "tuple1 = ('w','e','l','c','o','m','e')\n",
    "print(tuple1)\n",
    "print(tuple1[1])\n",
    "print(tuple1[3])\n",
    "print(tuple1[5])\n",
    "\n",
    "#nested tuple\n",
    "nest_tuple2 = (\"point\", [1,3,4], (8,7,9))\n",
    "print(nest_tuple2)\n",
    "print(nest_tuple2[0][3])\n",
    "print(nest_tuple2[1][2])\n",
    "print(nest_tuple2[2][2])\n"
   ]
  },
  {
   "cell_type": "code",
   "execution_count": 10,
   "id": "ac582224",
   "metadata": {},
   "outputs": [
    {
     "name": "stdout",
     "output_type": "stream",
     "text": [
      "('e', 'l')\n",
      "('w', 'e', 'l', 'c')\n",
      "('c', 'o', 'm', 'e')\n",
      "('w', 'e', 'l', 'c', 'o', 'm', 'e')\n"
     ]
    }
   ],
   "source": [
    "#slicing\n",
    "tuple1 = ('w','e','l','c','o','m','e')\n",
    "\n",
    "print(tuple1[1:3])\n",
    "print(tuple1[:-3])\n",
    "print(tuple1[3:])\n",
    "print(tuple1[:])"
   ]
  },
  {
   "cell_type": "code",
   "execution_count": 12,
   "id": "1b0cf790",
   "metadata": {},
   "outputs": [
    {
     "name": "stdout",
     "output_type": "stream",
     "text": [
      "('w', 'e', 'l', 'c', 'o', 'm', 'e')\n",
      "('g', 'o', 'o', 'd', 'b', 'y', 'e')\n"
     ]
    }
   ],
   "source": [
    "#Inmutabilidad\n",
    "\n",
    "tuple1 = ('w','e','l','c','o','m','e')\n",
    "print(tuple1)\n",
    "#tuple1[2] = 'x'   #error ''tuple' object does not support item assignment'\n",
    "\n",
    "#se pueden reasignar\n",
    "tuple1 = ('g','o','o','d','b','y','e')\n",
    "print(tuple1)"
   ]
  },
  {
   "cell_type": "code",
   "execution_count": 14,
   "id": "cca684cf",
   "metadata": {},
   "outputs": [
    {
     "name": "stdout",
     "output_type": "stream",
     "text": [
      "('w', 'e', 'l', 'c', 'o', 'm', 'e')\n",
      "('w', 'e', 'l', 'c', 'o', 'm', 'e')\n",
      "('again', 'again', 'again', 'again')\n"
     ]
    }
   ],
   "source": [
    "#concatenacion\n",
    "tuple2 = ('w','e','l')\n",
    "tuple3 = ('c','o','m','e')\n",
    "tuple4 = tuple2 + tuple3\n",
    "print(tuple2 + tuple3)\n",
    "print(tuple4)\n",
    "print((\"again\",)*4)"
   ]
  },
  {
   "cell_type": "code",
   "execution_count": 16,
   "id": "107ee6aa",
   "metadata": {},
   "outputs": [
    {
     "ename": "NameError",
     "evalue": "name 'tuple1' is not defined",
     "output_type": "error",
     "traceback": [
      "\u001b[1;31m---------------------------------------------------------------------------\u001b[0m",
      "\u001b[1;31mNameError\u001b[0m                                 Traceback (most recent call last)",
      "\u001b[1;32m<ipython-input-16-0b8029d47dfc>\u001b[0m in \u001b[0;36m<module>\u001b[1;34m\u001b[0m\n\u001b[0;32m      7\u001b[0m \u001b[1;31m#Pero si se pueden borrar tuples enteros\u001b[0m\u001b[1;33m\u001b[0m\u001b[1;33m\u001b[0m\u001b[1;33m\u001b[0m\u001b[0m\n\u001b[0;32m      8\u001b[0m \u001b[1;32mdel\u001b[0m \u001b[0mtuple1\u001b[0m\u001b[1;33m\u001b[0m\u001b[1;33m\u001b[0m\u001b[0m\n\u001b[1;32m----> 9\u001b[1;33m \u001b[0mprint\u001b[0m\u001b[1;33m(\u001b[0m\u001b[0mtuple1\u001b[0m\u001b[1;33m)\u001b[0m\u001b[1;33m\u001b[0m\u001b[1;33m\u001b[0m\u001b[0m\n\u001b[0m",
      "\u001b[1;31mNameError\u001b[0m: name 'tuple1' is not defined"
     ]
    }
   ],
   "source": [
    "#del\n",
    "#Al ser inmutables, los elementos de las tuples no se pueden borrar\n",
    "\n",
    "tuple1 = ('w','e','l','c','o','m','e')\n",
    "#del tuple4[2]   #error\n",
    "\n",
    "#Pero si se pueden borrar tuples enteros\n",
    "del tuple1\n",
    "print(tuple1)   #error"
   ]
  },
  {
   "cell_type": "code",
   "execution_count": 18,
   "id": "6346526a",
   "metadata": {},
   "outputs": [
    {
     "name": "stdout",
     "output_type": "stream",
     "text": [
      "2\n",
      "3\n"
     ]
    }
   ],
   "source": [
    "#metodos\n",
    "tuple5 = ('w','e','l','c','o','m','e')\n",
    "print(tuple5.count('e'))\n",
    "print(tuple5.index('c'))"
   ]
  },
  {
   "cell_type": "code",
   "execution_count": 20,
   "id": "d9d5b612",
   "metadata": {},
   "outputs": [
    {
     "name": "stdout",
     "output_type": "stream",
     "text": [
      "('w', 'e', 'l', 'c', 'o', 'm', 'e')\n",
      "True\n",
      "False\n",
      "False\n",
      "True\n"
     ]
    }
   ],
   "source": [
    "#operaciones\n",
    "tuple6 = ('w','e','l','c','o','m','e')\n",
    "print(tuple6)\n",
    "\n",
    "#pertenencia\n",
    "print('c' in tuple6)\n",
    "print('c' not in tuple6)\n",
    "print('a' in tuple6)\n",
    "print('a' not in tuple6)"
   ]
  },
  {
   "cell_type": "code",
   "execution_count": 22,
   "id": "6fcac3dd",
   "metadata": {},
   "outputs": [
    {
     "name": "stdout",
     "output_type": "stream",
     "text": [
      "letter is ->  w\n",
      "letter is ->  2\n",
      "letter is ->  l\n",
      "letter is ->  c\n",
      "letter is ->  o\n",
      "letter is ->  m\n",
      "letter is ->  e\n"
     ]
    }
   ],
   "source": [
    "#iteracion obre elementos de la tuple\n",
    "\n",
    "tuple6 = ('w','e','l','c','o','m','e')\n",
    "for letters in tuple6:   #'letters' es lo mismo que 'i'\n",
    "    print(\"letter is -> \", letters)"
   ]
  },
  {
   "cell_type": "code",
   "execution_count": 23,
   "id": "96d3d46d",
   "metadata": {},
   "outputs": [
    {
     "name": "stdout",
     "output_type": "stream",
     "text": [
      "(22, 33, 55, 44, 77, 66, 11)\n",
      "77\n",
      "11\n",
      "[11, 22, 33, 44, 55, 66, 77]\n",
      "7\n"
     ]
    }
   ],
   "source": [
    "#funciones build-in\n",
    "\n",
    "tuple7 = (22,33,55,44,77,66,11)\n",
    "print(tuple7)\n",
    "\n",
    "print(max(tuple7))\n",
    "print(min(tuple7))\n",
    "print(sorted(tuple7))\n",
    "print(len(tuple7))"
   ]
  },
  {
   "cell_type": "code",
   "execution_count": null,
   "id": "8f10befe",
   "metadata": {},
   "outputs": [],
   "source": []
  }
 ],
 "metadata": {
  "kernelspec": {
   "display_name": "Python 3",
   "language": "python",
   "name": "python3"
  },
  "language_info": {
   "codemirror_mode": {
    "name": "ipython",
    "version": 3
   },
   "file_extension": ".py",
   "mimetype": "text/x-python",
   "name": "python",
   "nbconvert_exporter": "python",
   "pygments_lexer": "ipython3",
   "version": "3.8.8"
  }
 },
 "nbformat": 4,
 "nbformat_minor": 5
}
