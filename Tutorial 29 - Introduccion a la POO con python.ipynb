{
 "cells": [
  {
   "cell_type": "code",
   "execution_count": null,
   "id": "071fd7cb",
   "metadata": {},
   "outputs": [],
   "source": [
    "#Creamos una clase y objeto\n",
    "class miAve:\n",
    "    def __init__(same):    #siempre que tengamos un metodo precedido por \"__\" es xq es estrictamente privado (no se pueden\n",
    "                           #acceder desde afuera de la clase)\n",
    "        print(\"El constructor de la clase 'miPajaro' se está ejecutando\")\n",
    "    \n",
    "    def queTipo(self):\n",
    "        print(\"Soy un pájaro\")\n",
    "    \n",
    "    def puedeNadar(self):\n",
    "        print(\"Puedo nadar\")"
   ]
  },
  {
   "cell_type": "code",
   "execution_count": null,
   "id": "7a418685",
   "metadata": {},
   "outputs": [],
   "source": [
    "class miPerico():\n",
    "    #atributo:\n",
    "    especie = \"pájaro\"   #no es privado!\n",
    "    \n",
    "    def __init__(self,nombre,edad):\n",
    "        print(\"El constructor de la clase 'miPerico' se está ejecutando\")\n",
    "        self.nombre = nombre\n",
    "        self.edad = edad\n",
    "        \n",
    "    def puedeCantar(self, estaCancion):\n",
    "        return \"{} puede cantar {}\".format(self.nombre,estaCancion)\n"
   ]
  },
  {
   "cell_type": "code",
   "execution_count": null,
   "id": "f95bf08f",
   "metadata": {},
   "outputs": [],
   "source": [
    "#clase miPinguino que hereda atributos de miPajaro\n",
    "class miPinguino(miAve):\n",
    "    \n",
    "    def __init__(self):\n",
    "        super().__init__()   #Esto llama al constructor padre\n",
    "        print(\"Pinguino listo\")\n",
    "    \n",
    "    def quienEsEste(self):\n",
    "        print(\"Soy un pinguino\")\n",
    "    def puedeCorrer(self):\n",
    "        print(\"Puedo correr rapido\")"
   ]
  },
  {
   "cell_type": "code",
   "execution_count": null,
   "id": "fb07c620",
   "metadata": {},
   "outputs": [],
   "source": [
    "#Ahora comencemos a instanciar dos pericos\n",
    "mp1 = miPerico(\"Mi Perico 1\",10)\n",
    "mp2 = miPerico(\"Mi Perico 2\",14)\n",
    "\n",
    "#Acceder a los atributos de la clase\n",
    "\n",
    "print(\"MP1 es un {}\".format(mp1.__class__.especie))  #se puede acceder asi xq no es privado\n",
    "print(\"MP2 tambien es un {}\".format(mp2.especie))\n",
    "      \n",
    "#Acceder a los atributos de la instancia\n",
    "      \n",
    "print(\"{} tiene {} años\".format(mp1.nombre, mp1.edad))\n",
    "print(\"{} tiene {} años\".format(mp2.nombre, mp2.edad))\n",
    "print(mp1.puedeCantar(\"En la ciudad de la furia\"))\n",
    "\n",
    "#Acceder a los atributos de los hijos (herencia)\n",
    "pg1 = miPinguino()\n",
    "pg1.quienEsEste()\n",
    "pg1.puedeNadar()   #heredado\n",
    "pg1.puedeCorrer()"
   ]
  },
  {
   "cell_type": "code",
   "execution_count": 27,
   "id": "9c58f70c",
   "metadata": {},
   "outputs": [
    {
     "name": "stdout",
     "output_type": "stream",
     "text": [
      "Precio de venta: 2000\n",
      "Precio de venta: 3000\n",
      "Precio de venta: 4000\n"
     ]
    }
   ],
   "source": [
    "#Encapsulamiento de datos\n",
    "class computadoraPersonal():\n",
    "    \n",
    "    def __init__(self):\n",
    "        self.precioMaximo = 2000\n",
    "    \n",
    "    def miVenta(self):\n",
    "        print(\"Precio de venta: {}\".format(self.precioMaximo))\n",
    "    \n",
    "    def setPrecioMaxVenta(self,precio):\n",
    "        self.precioMaximo = precio\n",
    "\n",
    "pc = computadoraPersonal()\n",
    "pc.miVenta()\n",
    "\n",
    "#cambio el precio\n",
    "pc.precioMaximo = 3000\n",
    "pc.miVenta()\n",
    "\n",
    "#usando el setter\n",
    "pc.setPrecioMaxVenta(4000)\n",
    "pc.miVenta()"
   ]
  },
  {
   "cell_type": "code",
   "execution_count": null,
   "id": "f4dea1f0",
   "metadata": {},
   "outputs": [],
   "source": []
  }
 ],
 "metadata": {
  "kernelspec": {
   "display_name": "Python 3",
   "language": "python",
   "name": "python3"
  },
  "language_info": {
   "codemirror_mode": {
    "name": "ipython",
    "version": 3
   },
   "file_extension": ".py",
   "mimetype": "text/x-python",
   "name": "python",
   "nbconvert_exporter": "python",
   "pygments_lexer": "ipython3",
   "version": "3.8.8"
  }
 },
 "nbformat": 4,
 "nbformat_minor": 5
}
