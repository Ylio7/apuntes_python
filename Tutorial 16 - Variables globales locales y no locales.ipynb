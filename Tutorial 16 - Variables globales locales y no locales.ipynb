{
 "cells": [
  {
   "cell_type": "code",
   "execution_count": 1,
   "id": "4ee01235",
   "metadata": {},
   "outputs": [
    {
     "name": "stdout",
     "output_type": "stream",
     "text": [
      "Global x =  global\n",
      "globalglobal\n",
      "local\n",
      "Global x =  globalglobal\n"
     ]
    }
   ],
   "source": [
    "#Variable global y local con diferente nombre\n",
    "x = \"global\"  #Se puede acceder a la variable global desde cualquier lugar\n",
    "\n",
    "def func1():\n",
    "    global x\n",
    "    y = \"local\"\n",
    "    x = x * 2\n",
    "    print(x)\n",
    "    print(y)\n",
    "\n",
    "print(\"Global x = \",x)\n",
    "func1()\n",
    "print(\"Global x = \",x)"
   ]
  },
  {
   "cell_type": "code",
   "execution_count": 2,
   "id": "0fd5dd60",
   "metadata": {},
   "outputs": [
    {
     "name": "stdout",
     "output_type": "stream",
     "text": [
      "global a =  5\n",
      "local a =  10\n",
      "global a =  5\n"
     ]
    }
   ],
   "source": [
    "#Variable global y local con musmo nombre\n",
    "a = 5\n",
    "\n",
    "def func2():\n",
    "    a = 10   #esta es una variable local (no global) por lo que solo se puede acceder a ella en el bloque donde esta definida\n",
    "    print(\"local a = \",a)\n",
    "\n",
    "print(\"global a = \",a)\n",
    "func2()\n",
    "print(\"global a = \",a)\n"
   ]
  },
  {
   "cell_type": "code",
   "execution_count": 5,
   "id": "cca72531",
   "metadata": {},
   "outputs": [
    {
     "name": "stdout",
     "output_type": "stream",
     "text": [
      "Interna:  nonlocal\n",
      "Externa:  nonlocal\n"
     ]
    }
   ],
   "source": [
    "#Crear y usar una variable no local\n",
    "\n",
    "def func_ext():\n",
    "    x = \"local\"\n",
    "    \n",
    "    def func_int():\n",
    "        nonlocal x   #la variable NonLocal son usadas en funciones anidadas. Al decirle que no es local, se modificará\n",
    "                     #la x de arriba en func_ext (x = \"local\")\n",
    "        x = \"nonlocal\"\n",
    "        print(\"Interna: \",x)\n",
    "    \n",
    "    func_int()\n",
    "    print(\"Externa: \",x)\n",
    "\n",
    "func_ext()\n"
   ]
  },
  {
   "cell_type": "code",
   "execution_count": null,
   "id": "ef1e6d67",
   "metadata": {},
   "outputs": [],
   "source": []
  }
 ],
 "metadata": {
  "kernelspec": {
   "display_name": "Python 3",
   "language": "python",
   "name": "python3"
  },
  "language_info": {
   "codemirror_mode": {
    "name": "ipython",
    "version": 3
   },
   "file_extension": ".py",
   "mimetype": "text/x-python",
   "name": "python",
   "nbconvert_exporter": "python",
   "pygments_lexer": "ipython3",
   "version": "3.8.8"
  }
 },
 "nbformat": 4,
 "nbformat_minor": 5
}
